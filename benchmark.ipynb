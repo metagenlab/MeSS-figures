{
 "cells": [
  {
   "cell_type": "code",
   "execution_count": 2,
   "id": "55130a37-3b64-4ef6-971c-293ffe490755",
   "metadata": {},
   "outputs": [],
   "source": [
    "import pandas as pd\n",
    "import altair as alt\n",
    "import glob\n",
    "import os\n",
    "from humanfriendly import parse_size"
   ]
  },
  {
   "cell_type": "code",
   "execution_count": 3,
   "id": "76bedf63-e045-4e22-9a5a-6a7c69850442",
   "metadata": {},
   "outputs": [],
   "source": [
    "def convert_to_timedelta(duration_str, unit=\"m\"):\n",
    "    conv = {\"d\": 86400,\"h\": 3600, \"m\": 60}\n",
    "    vals = duration_str.split(\" \")\n",
    "    total = 0\n",
    "    for val in vals:\n",
    "        if \"d\" in val:\n",
    "            total += int(val.replace(\"d\", \"\")) * conv[\"d\"]\n",
    "        if \"h\" in val:\n",
    "            total += int(val.replace(\"h\", \"\")) * conv[\"h\"]\n",
    "        if \"m\" in val and \"ms\" not in val:\n",
    "            total += int(val.replace(\"m\", \"\")) * conv[\"m\"]\n",
    "        if \"s\" in val:\n",
    "            total += float(val.replace(\"s\", \"\"))\n",
    "    return pd.Timedelta(total, unit=\"s\").total_seconds() / conv[unit]"
   ]
  },
  {
   "cell_type": "code",
   "execution_count": 4,
   "id": "e23064c6-c429-408e-8e91-a2fe82fead0c",
   "metadata": {},
   "outputs": [],
   "source": [
    "run = \"/home/fchaaban/asterix/scratch/hdd2/farid/2024_MeSS/benchmark/run1\""
   ]
  },
  {
   "cell_type": "code",
   "execution_count": 5,
   "id": "bcf272e9-db71-4270-8c9c-ff15694bc1a6",
   "metadata": {},
   "outputs": [],
   "source": [
    "files = glob.glob(\n",
    "    os.path.join(run,\"pipeline_info\",\"*.txt\")\n",
    ")"
   ]
  },
  {
   "cell_type": "code",
   "execution_count": 6,
   "id": "5c21f8db-61cb-497b-8c4c-8a15568b3bdf",
   "metadata": {},
   "outputs": [
    {
     "data": {
      "text/plain": [
       "['/home/fchaaban/asterix/scratch/hdd2/farid/2024_MeSS/benchmark/run1/pipeline_info/execution_trace_2024-04-25_17-45-11.txt']"
      ]
     },
     "execution_count": 6,
     "metadata": {},
     "output_type": "execute_result"
    }
   ],
   "source": [
    "files"
   ]
  },
  {
   "cell_type": "code",
   "execution_count": 7,
   "id": "68efec52-71e8-41ce-a7cd-3a5f088fe66b",
   "metadata": {},
   "outputs": [],
   "source": [
    "tsvs = []\n",
    "for file in files:\n",
    "    tsv = pd.read_csv(file, sep=\"\\t\")\n",
    "    tsv[\"run\"] = [file.split(\"/\")[-3]] * len(tsv)\n",
    "    tsvs.append(tsv)\n",
    "df = pd.concat(tsvs)"
   ]
  },
  {
   "cell_type": "code",
   "execution_count": 8,
   "id": "60950f30-a4a2-46e3-83f1-976fb8a22993",
   "metadata": {},
   "outputs": [],
   "source": [
    "df[\"task_name\"] = df.name.str.split(\":\", expand=True)[1]\n",
    "df[\"tool\"] = df.task_name.str.split(\"_\", expand=True)[0]\n",
    "df = df[df.task_name.str.contains(\"SIMULATE\")]\n",
    "df[\"genomes\"] = df.task_name.str.split(\" \", expand=True)[1]\n",
    "df[\"genomes\"] = df[\"genomes\"].str.replace(\"(\", \"\").str.replace(\")\", \"\")\n",
    "df[\"genomes\"] = [int(nb) for nb in df[\"genomes\"]]\n",
    "df[\"duration_min\"] = df.duration.apply(convert_to_timedelta)\n",
    "df[\"realtime_min\"] = df.realtime.apply(convert_to_timedelta)"
   ]
  },
  {
   "cell_type": "code",
   "execution_count": 9,
   "id": "29b6c5b6-7b65-4f96-ad2f-5a2a6c0ad595",
   "metadata": {},
   "outputs": [],
   "source": [
    "df[\"tool\"] = df[\"tool\"].replace({\"MESS\": \"MeSS v0.8.0\", \"CAMISIM\": \"CAMISIM v1.3\"})"
   ]
  },
  {
   "cell_type": "markdown",
   "id": "6d86e232-b58c-4389-befc-62c36036051e",
   "metadata": {},
   "source": [
    "## add genomes metadata\n"
   ]
  },
  {
   "cell_type": "code",
   "execution_count": 10,
   "id": "15af8c10-1a72-46d2-9b4e-8ed2e60b1fd9",
   "metadata": {},
   "outputs": [],
   "source": [
    "meta_files = glob.glob(\n",
    "    os.path.join(run,\"mess\", \"*\",\"processing\",\"*.tsv\")\n",
    "    \n",
    ")\n",
    "meta_df = []\n",
    "for file in meta_files:\n",
    "    mdf = pd.read_csv(file, sep=\"\\t\")\n",
    "    mdf[\"genomes\"] = [mdf.shape[0]] * len(mdf)\n",
    "    meta_df.append(mdf)\n",
    "meta_df = pd.concat(meta_df)"
   ]
  },
  {
   "cell_type": "code",
   "execution_count": 11,
   "id": "f4cfaad8-3400-48e0-a328-84a87f6f656c",
   "metadata": {},
   "outputs": [],
   "source": [
    "meta_df = meta_df.groupby(\"genomes\", as_index=False)[\n",
    "    [\"total_sequence_length\", \"number_of_contigs\", \"bases\", \"reads\"]\n",
    "].sum()"
   ]
  },
  {
   "cell_type": "code",
   "execution_count": 12,
   "id": "dda37432-ef7c-4bb9-a399-a119759c7aa3",
   "metadata": {},
   "outputs": [
    {
     "data": {
      "text/html": [
       "<div>\n",
       "<style scoped>\n",
       "    .dataframe tbody tr th:only-of-type {\n",
       "        vertical-align: middle;\n",
       "    }\n",
       "\n",
       "    .dataframe tbody tr th {\n",
       "        vertical-align: top;\n",
       "    }\n",
       "\n",
       "    .dataframe thead th {\n",
       "        text-align: right;\n",
       "    }\n",
       "</style>\n",
       "<table border=\"1\" class=\"dataframe\">\n",
       "  <thead>\n",
       "    <tr style=\"text-align: right;\">\n",
       "      <th></th>\n",
       "      <th>genomes</th>\n",
       "      <th>total_sequence_length</th>\n",
       "      <th>number_of_contigs</th>\n",
       "      <th>bases</th>\n",
       "      <th>reads</th>\n",
       "    </tr>\n",
       "  </thead>\n",
       "  <tbody>\n",
       "    <tr>\n",
       "      <th>0</th>\n",
       "      <td>1</td>\n",
       "      <td>3502975</td>\n",
       "      <td>2</td>\n",
       "      <td>3502975.0</td>\n",
       "      <td>17514.875</td>\n",
       "    </tr>\n",
       "    <tr>\n",
       "      <th>1</th>\n",
       "      <td>2</td>\n",
       "      <td>8160866</td>\n",
       "      <td>3</td>\n",
       "      <td>8160866.0</td>\n",
       "      <td>40804.330</td>\n",
       "    </tr>\n",
       "    <tr>\n",
       "      <th>2</th>\n",
       "      <td>3</td>\n",
       "      <td>6774179</td>\n",
       "      <td>9</td>\n",
       "      <td>6774179.0</td>\n",
       "      <td>33870.895</td>\n",
       "    </tr>\n",
       "    <tr>\n",
       "      <th>3</th>\n",
       "      <td>4</td>\n",
       "      <td>10175797</td>\n",
       "      <td>8</td>\n",
       "      <td>10175797.0</td>\n",
       "      <td>50878.985</td>\n",
       "    </tr>\n",
       "    <tr>\n",
       "      <th>4</th>\n",
       "      <td>5</td>\n",
       "      <td>21563198</td>\n",
       "      <td>7</td>\n",
       "      <td>21563198.0</td>\n",
       "      <td>107815.990</td>\n",
       "    </tr>\n",
       "  </tbody>\n",
       "</table>\n",
       "</div>"
      ],
      "text/plain": [
       "   genomes  total_sequence_length  number_of_contigs       bases       reads\n",
       "0        1                3502975                  2   3502975.0   17514.875\n",
       "1        2                8160866                  3   8160866.0   40804.330\n",
       "2        3                6774179                  9   6774179.0   33870.895\n",
       "3        4               10175797                  8  10175797.0   50878.985\n",
       "4        5               21563198                  7  21563198.0  107815.990"
      ]
     },
     "execution_count": 12,
     "metadata": {},
     "output_type": "execute_result"
    }
   ],
   "source": [
    "meta_df.head()"
   ]
  },
  {
   "cell_type": "code",
   "execution_count": 13,
   "id": "e810ba55-4a00-40bd-b29e-c25999e2bb1b",
   "metadata": {},
   "outputs": [],
   "source": [
    "# Add metadata\n",
    "df = df.merge(meta_df, on=\"genomes\")"
   ]
  },
  {
   "cell_type": "code",
   "execution_count": 14,
   "id": "2ab4f007-296c-4203-92d9-52f344878d9d",
   "metadata": {},
   "outputs": [],
   "source": [
    "df = df.sort_values([\"tool\",\"bases\"])"
   ]
  },
  {
   "cell_type": "code",
   "execution_count": 15,
   "id": "d2a6534d-4c59-412f-85e7-8a4acfe38b4c",
   "metadata": {},
   "outputs": [
    {
     "data": {
      "text/plain": [
       "Index(['task_id', 'hash', 'native_id', 'name', 'status', 'exit', 'submit',\n",
       "       'duration', 'realtime', '%cpu', 'peak_rss', 'peak_vmem', 'rchar',\n",
       "       'wchar', 'run', 'task_name', 'tool', 'genomes', 'duration_min',\n",
       "       'realtime_min', 'total_sequence_length', 'number_of_contigs', 'bases',\n",
       "       'reads'],\n",
       "      dtype='object')"
      ]
     },
     "execution_count": 15,
     "metadata": {},
     "output_type": "execute_result"
    }
   ],
   "source": [
    "df.columns"
   ]
  },
  {
   "cell_type": "code",
   "execution_count": 17,
   "id": "6807cebe-63be-45a5-81d8-509a301bd243",
   "metadata": {},
   "outputs": [],
   "source": [
    "df[\"RAM\"] = [parse_size(size) / 10**9 for size in df.peak_rss]\n",
    "df[\"%cpu\"] = [float(usage.replace(\"%\",\"\")) for usage in df[\"%cpu\"]]\n",
    "df[\"cpu\"] = [cpu / 100 for cpu in df[\"%cpu\"]]\n",
    "df[\"calc_time\"] = df[\"realtime_min\"] * df[\"cpu\"]"
   ]
  },
  {
   "cell_type": "code",
   "execution_count": 67,
   "id": "286e54d3-8ce9-4ea0-9c97-b627dec20f9c",
   "metadata": {},
   "outputs": [],
   "source": [
    "mean_df = df.groupby(\"tool\", as_index=False)[[\"RAM\",\"calc_time\",\"cpu\"]].mean()"
   ]
  },
  {
   "cell_type": "code",
   "execution_count": 68,
   "id": "33f3cdfa-543a-41b4-8941-47ecaa0b278a",
   "metadata": {},
   "outputs": [
    {
     "data": {
      "text/html": [
       "<div>\n",
       "<style scoped>\n",
       "    .dataframe tbody tr th:only-of-type {\n",
       "        vertical-align: middle;\n",
       "    }\n",
       "\n",
       "    .dataframe tbody tr th {\n",
       "        vertical-align: top;\n",
       "    }\n",
       "\n",
       "    .dataframe thead th {\n",
       "        text-align: right;\n",
       "    }\n",
       "</style>\n",
       "<table border=\"1\" class=\"dataframe\">\n",
       "  <thead>\n",
       "    <tr style=\"text-align: right;\">\n",
       "      <th></th>\n",
       "      <th>tool</th>\n",
       "      <th>RAM</th>\n",
       "      <th>calc_time</th>\n",
       "      <th>cpu</th>\n",
       "    </tr>\n",
       "  </thead>\n",
       "  <tbody>\n",
       "    <tr>\n",
       "      <th>0</th>\n",
       "      <td>CAMISIM v1.3</td>\n",
       "      <td>70.031250</td>\n",
       "      <td>249.048303</td>\n",
       "      <td>1.088688</td>\n",
       "    </tr>\n",
       "    <tr>\n",
       "      <th>1</th>\n",
       "      <td>MeSS v0.8.0</td>\n",
       "      <td>4.194575</td>\n",
       "      <td>24.570161</td>\n",
       "      <td>5.719625</td>\n",
       "    </tr>\n",
       "  </tbody>\n",
       "</table>\n",
       "</div>"
      ],
      "text/plain": [
       "           tool        RAM   calc_time       cpu\n",
       "0  CAMISIM v1.3  70.031250  249.048303  1.088688\n",
       "1   MeSS v0.8.0   4.194575   24.570161  5.719625"
      ]
     },
     "execution_count": 68,
     "metadata": {},
     "output_type": "execute_result"
    }
   ],
   "source": [
    "mean_df"
   ]
  },
  {
   "cell_type": "code",
   "execution_count": 72,
   "id": "faf3157f-090f-473e-84f1-9a158712b880",
   "metadata": {},
   "outputs": [
    {
     "data": {
      "text/plain": [
       "16.69392133492253"
      ]
     },
     "execution_count": 72,
     "metadata": {},
     "output_type": "execute_result"
    }
   ],
   "source": [
    "70.031 / 4.195"
   ]
  },
  {
   "cell_type": "code",
   "execution_count": 73,
   "id": "783c66db-5ea8-4781-9f68-ea81d1297774",
   "metadata": {},
   "outputs": [
    {
     "data": {
      "text/plain": [
       "10.136263736263736"
      ]
     },
     "execution_count": 73,
     "metadata": {},
     "output_type": "execute_result"
    }
   ],
   "source": [
    "249.048 / 24.570"
   ]
  },
  {
   "cell_type": "code",
   "execution_count": 74,
   "id": "6fdbe526-5bbb-46f8-88c2-d924845213f3",
   "metadata": {},
   "outputs": [
    {
     "data": {
      "text/plain": [
       "5.252525252525253"
      ]
     },
     "execution_count": 74,
     "metadata": {},
     "output_type": "execute_result"
    }
   ],
   "source": [
    "5.72 / 1.089"
   ]
  },
  {
   "cell_type": "code",
   "execution_count": 49,
   "id": "dc15800b-b846-4000-9728-834bddddb42f",
   "metadata": {},
   "outputs": [
    {
     "data": {
      "text/html": [
       "\n",
       "<style>\n",
       "  #altair-viz-ce5bb869a92b44cc992c063218c6d2fb.vega-embed {\n",
       "    width: 100%;\n",
       "    display: flex;\n",
       "  }\n",
       "\n",
       "  #altair-viz-ce5bb869a92b44cc992c063218c6d2fb.vega-embed details,\n",
       "  #altair-viz-ce5bb869a92b44cc992c063218c6d2fb.vega-embed details summary {\n",
       "    position: relative;\n",
       "  }\n",
       "</style>\n",
       "<div id=\"altair-viz-ce5bb869a92b44cc992c063218c6d2fb\"></div>\n",
       "<script type=\"text/javascript\">\n",
       "  var VEGA_DEBUG = (typeof VEGA_DEBUG == \"undefined\") ? {} : VEGA_DEBUG;\n",
       "  (function(spec, embedOpt){\n",
       "    let outputDiv = document.currentScript.previousElementSibling;\n",
       "    if (outputDiv.id !== \"altair-viz-ce5bb869a92b44cc992c063218c6d2fb\") {\n",
       "      outputDiv = document.getElementById(\"altair-viz-ce5bb869a92b44cc992c063218c6d2fb\");\n",
       "    }\n",
       "    const paths = {\n",
       "      \"vega\": \"https://cdn.jsdelivr.net/npm/vega@5?noext\",\n",
       "      \"vega-lib\": \"https://cdn.jsdelivr.net/npm/vega-lib?noext\",\n",
       "      \"vega-lite\": \"https://cdn.jsdelivr.net/npm/vega-lite@5.16.3?noext\",\n",
       "      \"vega-embed\": \"https://cdn.jsdelivr.net/npm/vega-embed@6?noext\",\n",
       "    };\n",
       "\n",
       "    function maybeLoadScript(lib, version) {\n",
       "      var key = `${lib.replace(\"-\", \"\")}_version`;\n",
       "      return (VEGA_DEBUG[key] == version) ?\n",
       "        Promise.resolve(paths[lib]) :\n",
       "        new Promise(function(resolve, reject) {\n",
       "          var s = document.createElement('script');\n",
       "          document.getElementsByTagName(\"head\")[0].appendChild(s);\n",
       "          s.async = true;\n",
       "          s.onload = () => {\n",
       "            VEGA_DEBUG[key] = version;\n",
       "            return resolve(paths[lib]);\n",
       "          };\n",
       "          s.onerror = () => reject(`Error loading script: ${paths[lib]}`);\n",
       "          s.src = paths[lib];\n",
       "        });\n",
       "    }\n",
       "\n",
       "    function showError(err) {\n",
       "      outputDiv.innerHTML = `<div class=\"error\" style=\"color:red;\">${err}</div>`;\n",
       "      throw err;\n",
       "    }\n",
       "\n",
       "    function displayChart(vegaEmbed) {\n",
       "      vegaEmbed(outputDiv, spec, embedOpt)\n",
       "        .catch(err => showError(`Javascript Error: ${err.message}<br>This usually means there's a typo in your chart specification. See the javascript console for the full traceback.`));\n",
       "    }\n",
       "\n",
       "    if(typeof define === \"function\" && define.amd) {\n",
       "      requirejs.config({paths});\n",
       "      require([\"vega-embed\"], displayChart, err => showError(`Error loading script: ${err.message}`));\n",
       "    } else {\n",
       "      maybeLoadScript(\"vega\", \"5\")\n",
       "        .then(() => maybeLoadScript(\"vega-lite\", \"5.16.3\"))\n",
       "        .then(() => maybeLoadScript(\"vega-embed\", \"6\"))\n",
       "        .catch(showError)\n",
       "        .then(() => displayChart(vegaEmbed));\n",
       "    }\n",
       "  })({\"config\": {\"view\": {\"continuousWidth\": 300, \"continuousHeight\": 300}, \"axis\": {\"labelFontSize\": 12, \"titleFontSize\": 12}}, \"data\": {\"name\": \"data-bc0a55ffc3e4ee9fac4246d0db4d327f\"}, \"mark\": {\"type\": \"boxplot\", \"size\": 90}, \"encoding\": {\"color\": {\"field\": \"tool\", \"legend\": null, \"type\": \"nominal\"}, \"x\": {\"axis\": {\"labelAngle\": 0}, \"field\": \"tool\", \"type\": \"nominal\"}, \"y\": {\"field\": \"RAM\", \"title\": \"RAM (GB)\", \"type\": \"quantitative\"}}, \"height\": 300, \"width\": 600, \"$schema\": \"https://vega.github.io/schema/vega-lite/v5.16.3.json\", \"datasets\": {\"data-bc0a55ffc3e4ee9fac4246d0db4d327f\": [{\"tool\": \"CAMISIM v1.3\", \"RAM\": 38.5}, {\"tool\": \"CAMISIM v1.3\", \"RAM\": 41.2}, {\"tool\": \"CAMISIM v1.3\", \"RAM\": 85.1}, {\"tool\": \"CAMISIM v1.3\", \"RAM\": 38.5}, {\"tool\": \"CAMISIM v1.3\", \"RAM\": 49.4}, {\"tool\": \"CAMISIM v1.3\", \"RAM\": 85.1}, {\"tool\": \"CAMISIM v1.3\", \"RAM\": 85.1}, {\"tool\": \"CAMISIM v1.3\", \"RAM\": 77.0}, {\"tool\": \"CAMISIM v1.3\", \"RAM\": 68.7}, {\"tool\": \"CAMISIM v1.3\", \"RAM\": 44.0}, {\"tool\": \"CAMISIM v1.3\", \"RAM\": 71.5}, {\"tool\": \"CAMISIM v1.3\", \"RAM\": 84.6}, {\"tool\": \"CAMISIM v1.3\", \"RAM\": 85.6}, {\"tool\": \"CAMISIM v1.3\", \"RAM\": 86.0}, {\"tool\": \"CAMISIM v1.3\", \"RAM\": 88.7}, {\"tool\": \"CAMISIM v1.3\", \"RAM\": 91.5}, {\"tool\": \"MeSS v0.8.0\", \"RAM\": 0.5389}, {\"tool\": \"MeSS v0.8.0\", \"RAM\": 1.1}, {\"tool\": \"MeSS v0.8.0\", \"RAM\": 0.4854}, {\"tool\": \"MeSS v0.8.0\", \"RAM\": 0.8931}, {\"tool\": \"MeSS v0.8.0\", \"RAM\": 0.8593}, {\"tool\": \"MeSS v0.8.0\", \"RAM\": 0.6646}, {\"tool\": \"MeSS v0.8.0\", \"RAM\": 1.2}, {\"tool\": \"MeSS v0.8.0\", \"RAM\": 1.1}, {\"tool\": \"MeSS v0.8.0\", \"RAM\": 1.2}, {\"tool\": \"MeSS v0.8.0\", \"RAM\": 0.8719}, {\"tool\": \"MeSS v0.8.0\", \"RAM\": 1.6}, {\"tool\": \"MeSS v0.8.0\", \"RAM\": 2.3}, {\"tool\": \"MeSS v0.8.0\", \"RAM\": 3.8}, {\"tool\": \"MeSS v0.8.0\", \"RAM\": 6.9}, {\"tool\": \"MeSS v0.8.0\", \"RAM\": 15.1}, {\"tool\": \"MeSS v0.8.0\", \"RAM\": 28.5}]}}, {\"mode\": \"vega-lite\"});\n",
       "</script>"
      ],
      "text/plain": [
       "alt.Chart(...)"
      ]
     },
     "execution_count": 49,
     "metadata": {},
     "output_type": "execute_result"
    }
   ],
   "source": [
    "bp = alt.Chart(df[[\"tool\",\"RAM\"]]).mark_boxplot(size=90).encode(\n",
    "    alt.X(\"tool:N\", axis=alt.Axis(labelAngle=0)),\n",
    "    alt.Y(\"RAM:Q\").title(\"RAM (GB)\"),\n",
    "    alt.Color(\"tool:N\").legend(None),\n",
    ").properties(\n",
    "    width=600,\n",
    "    height=300\n",
    ").configure_axis(\n",
    "    labelFontSize=12,\n",
    "    titleFontSize=12\n",
    ")\n",
    "bp"
   ]
  },
  {
   "cell_type": "code",
   "execution_count": 50,
   "id": "0e63eb1e-d53e-4d7c-b52f-aacc3e10868c",
   "metadata": {},
   "outputs": [],
   "source": [
    "bp.save('ram-usage.svg', ppi=400)"
   ]
  },
  {
   "cell_type": "code",
   "execution_count": 51,
   "id": "ceb61cb7-b66f-453e-8d27-3d078eca9891",
   "metadata": {},
   "outputs": [
    {
     "data": {
      "text/html": [
       "\n",
       "<style>\n",
       "  #altair-viz-b1ba1402fca24b46b92d28ce07401c3c.vega-embed {\n",
       "    width: 100%;\n",
       "    display: flex;\n",
       "  }\n",
       "\n",
       "  #altair-viz-b1ba1402fca24b46b92d28ce07401c3c.vega-embed details,\n",
       "  #altair-viz-b1ba1402fca24b46b92d28ce07401c3c.vega-embed details summary {\n",
       "    position: relative;\n",
       "  }\n",
       "</style>\n",
       "<div id=\"altair-viz-b1ba1402fca24b46b92d28ce07401c3c\"></div>\n",
       "<script type=\"text/javascript\">\n",
       "  var VEGA_DEBUG = (typeof VEGA_DEBUG == \"undefined\") ? {} : VEGA_DEBUG;\n",
       "  (function(spec, embedOpt){\n",
       "    let outputDiv = document.currentScript.previousElementSibling;\n",
       "    if (outputDiv.id !== \"altair-viz-b1ba1402fca24b46b92d28ce07401c3c\") {\n",
       "      outputDiv = document.getElementById(\"altair-viz-b1ba1402fca24b46b92d28ce07401c3c\");\n",
       "    }\n",
       "    const paths = {\n",
       "      \"vega\": \"https://cdn.jsdelivr.net/npm/vega@5?noext\",\n",
       "      \"vega-lib\": \"https://cdn.jsdelivr.net/npm/vega-lib?noext\",\n",
       "      \"vega-lite\": \"https://cdn.jsdelivr.net/npm/vega-lite@5.16.3?noext\",\n",
       "      \"vega-embed\": \"https://cdn.jsdelivr.net/npm/vega-embed@6?noext\",\n",
       "    };\n",
       "\n",
       "    function maybeLoadScript(lib, version) {\n",
       "      var key = `${lib.replace(\"-\", \"\")}_version`;\n",
       "      return (VEGA_DEBUG[key] == version) ?\n",
       "        Promise.resolve(paths[lib]) :\n",
       "        new Promise(function(resolve, reject) {\n",
       "          var s = document.createElement('script');\n",
       "          document.getElementsByTagName(\"head\")[0].appendChild(s);\n",
       "          s.async = true;\n",
       "          s.onload = () => {\n",
       "            VEGA_DEBUG[key] = version;\n",
       "            return resolve(paths[lib]);\n",
       "          };\n",
       "          s.onerror = () => reject(`Error loading script: ${paths[lib]}`);\n",
       "          s.src = paths[lib];\n",
       "        });\n",
       "    }\n",
       "\n",
       "    function showError(err) {\n",
       "      outputDiv.innerHTML = `<div class=\"error\" style=\"color:red;\">${err}</div>`;\n",
       "      throw err;\n",
       "    }\n",
       "\n",
       "    function displayChart(vegaEmbed) {\n",
       "      vegaEmbed(outputDiv, spec, embedOpt)\n",
       "        .catch(err => showError(`Javascript Error: ${err.message}<br>This usually means there's a typo in your chart specification. See the javascript console for the full traceback.`));\n",
       "    }\n",
       "\n",
       "    if(typeof define === \"function\" && define.amd) {\n",
       "      requirejs.config({paths});\n",
       "      require([\"vega-embed\"], displayChart, err => showError(`Error loading script: ${err.message}`));\n",
       "    } else {\n",
       "      maybeLoadScript(\"vega\", \"5\")\n",
       "        .then(() => maybeLoadScript(\"vega-lite\", \"5.16.3\"))\n",
       "        .then(() => maybeLoadScript(\"vega-embed\", \"6\"))\n",
       "        .catch(showError)\n",
       "        .then(() => displayChart(vegaEmbed));\n",
       "    }\n",
       "  })({\"config\": {\"view\": {\"continuousWidth\": 300, \"continuousHeight\": 300}, \"axis\": {\"labelFontSize\": 12, \"titleFontSize\": 12}}, \"data\": {\"name\": \"data-cb606c7e705ec6b6d2b51689722a7111\"}, \"mark\": {\"type\": \"boxplot\", \"size\": 90}, \"encoding\": {\"color\": {\"field\": \"tool\", \"legend\": null, \"type\": \"nominal\"}, \"x\": {\"axis\": {\"labelAngle\": 0}, \"field\": \"tool\", \"type\": \"nominal\"}, \"y\": {\"field\": \"cpu\", \"title\": \"CPU usage\", \"type\": \"quantitative\"}}, \"height\": 300, \"width\": 600, \"$schema\": \"https://vega.github.io/schema/vega-lite/v5.16.3.json\", \"datasets\": {\"data-cb606c7e705ec6b6d2b51689722a7111\": [{\"tool\": \"CAMISIM v1.3\", \"cpu\": 1.253}, {\"tool\": \"CAMISIM v1.3\", \"cpu\": 1.219}, {\"tool\": \"CAMISIM v1.3\", \"cpu\": 1.115}, {\"tool\": \"CAMISIM v1.3\", \"cpu\": 1.13}, {\"tool\": \"CAMISIM v1.3\", \"cpu\": 1.0959999999999999}, {\"tool\": \"CAMISIM v1.3\", \"cpu\": 1.054}, {\"tool\": \"CAMISIM v1.3\", \"cpu\": 1.077}, {\"tool\": \"CAMISIM v1.3\", \"cpu\": 1.052}, {\"tool\": \"CAMISIM v1.3\", \"cpu\": 1.06}, {\"tool\": \"CAMISIM v1.3\", \"cpu\": 1.068}, {\"tool\": \"CAMISIM v1.3\", \"cpu\": 1.056}, {\"tool\": \"CAMISIM v1.3\", \"cpu\": 1.057}, {\"tool\": \"CAMISIM v1.3\", \"cpu\": 1.043}, {\"tool\": \"CAMISIM v1.3\", \"cpu\": 1.047}, {\"tool\": \"CAMISIM v1.3\", \"cpu\": 1.047}, {\"tool\": \"CAMISIM v1.3\", \"cpu\": 1.045}, {\"tool\": \"MeSS v0.8.0\", \"cpu\": 1.966}, {\"tool\": \"MeSS v0.8.0\", \"cpu\": 3.3689999999999998}, {\"tool\": \"MeSS v0.8.0\", \"cpu\": 2.7960000000000003}, {\"tool\": \"MeSS v0.8.0\", \"cpu\": 3.259}, {\"tool\": \"MeSS v0.8.0\", \"cpu\": 3.892}, {\"tool\": \"MeSS v0.8.0\", \"cpu\": 3.062}, {\"tool\": \"MeSS v0.8.0\", \"cpu\": 4.145}, {\"tool\": \"MeSS v0.8.0\", \"cpu\": 4.466}, {\"tool\": \"MeSS v0.8.0\", \"cpu\": 5.166}, {\"tool\": \"MeSS v0.8.0\", \"cpu\": 5.8870000000000005}, {\"tool\": \"MeSS v0.8.0\", \"cpu\": 6.474}, {\"tool\": \"MeSS v0.8.0\", \"cpu\": 8.535}, {\"tool\": \"MeSS v0.8.0\", \"cpu\": 9.597999999999999}, {\"tool\": \"MeSS v0.8.0\", \"cpu\": 10.302}, {\"tool\": \"MeSS v0.8.0\", \"cpu\": 9.435}, {\"tool\": \"MeSS v0.8.0\", \"cpu\": 9.162}]}}, {\"mode\": \"vega-lite\"});\n",
       "</script>"
      ],
      "text/plain": [
       "alt.Chart(...)"
      ]
     },
     "execution_count": 51,
     "metadata": {},
     "output_type": "execute_result"
    }
   ],
   "source": [
    "bp = alt.Chart(df[[\"tool\",\"cpu\"]]).mark_boxplot(size=90).encode(\n",
    "    alt.X(\"tool:N\",axis=alt.Axis(labelAngle=0)),\n",
    "    alt.Y(\"cpu:Q\").title(\"CPU usage\"),\n",
    "    alt.Color(\"tool:N\").legend(None),\n",
    ").properties(\n",
    "    width=600,\n",
    "    height=300\n",
    ").configure_axis(\n",
    "    labelFontSize=12,\n",
    "    titleFontSize=12\n",
    ")\n",
    "bp"
   ]
  },
  {
   "cell_type": "code",
   "execution_count": 52,
   "id": "3689faec-872f-42ff-a0d5-45924d777e47",
   "metadata": {},
   "outputs": [],
   "source": [
    "bp.save('cpu-usage.svg', ppi=400)"
   ]
  },
  {
   "cell_type": "code",
   "execution_count": 77,
   "id": "6027e85c-9db5-4dbf-a3c9-c4f9a5785312",
   "metadata": {},
   "outputs": [
    {
     "data": {
      "text/html": [
       "\n",
       "<style>\n",
       "  #altair-viz-8a6f8dbbc09a4dceb9fea4f15e292b48.vega-embed {\n",
       "    width: 100%;\n",
       "    display: flex;\n",
       "  }\n",
       "\n",
       "  #altair-viz-8a6f8dbbc09a4dceb9fea4f15e292b48.vega-embed details,\n",
       "  #altair-viz-8a6f8dbbc09a4dceb9fea4f15e292b48.vega-embed details summary {\n",
       "    position: relative;\n",
       "  }\n",
       "</style>\n",
       "<div id=\"altair-viz-8a6f8dbbc09a4dceb9fea4f15e292b48\"></div>\n",
       "<script type=\"text/javascript\">\n",
       "  var VEGA_DEBUG = (typeof VEGA_DEBUG == \"undefined\") ? {} : VEGA_DEBUG;\n",
       "  (function(spec, embedOpt){\n",
       "    let outputDiv = document.currentScript.previousElementSibling;\n",
       "    if (outputDiv.id !== \"altair-viz-8a6f8dbbc09a4dceb9fea4f15e292b48\") {\n",
       "      outputDiv = document.getElementById(\"altair-viz-8a6f8dbbc09a4dceb9fea4f15e292b48\");\n",
       "    }\n",
       "    const paths = {\n",
       "      \"vega\": \"https://cdn.jsdelivr.net/npm/vega@5?noext\",\n",
       "      \"vega-lib\": \"https://cdn.jsdelivr.net/npm/vega-lib?noext\",\n",
       "      \"vega-lite\": \"https://cdn.jsdelivr.net/npm/vega-lite@5.16.3?noext\",\n",
       "      \"vega-embed\": \"https://cdn.jsdelivr.net/npm/vega-embed@6?noext\",\n",
       "    };\n",
       "\n",
       "    function maybeLoadScript(lib, version) {\n",
       "      var key = `${lib.replace(\"-\", \"\")}_version`;\n",
       "      return (VEGA_DEBUG[key] == version) ?\n",
       "        Promise.resolve(paths[lib]) :\n",
       "        new Promise(function(resolve, reject) {\n",
       "          var s = document.createElement('script');\n",
       "          document.getElementsByTagName(\"head\")[0].appendChild(s);\n",
       "          s.async = true;\n",
       "          s.onload = () => {\n",
       "            VEGA_DEBUG[key] = version;\n",
       "            return resolve(paths[lib]);\n",
       "          };\n",
       "          s.onerror = () => reject(`Error loading script: ${paths[lib]}`);\n",
       "          s.src = paths[lib];\n",
       "        });\n",
       "    }\n",
       "\n",
       "    function showError(err) {\n",
       "      outputDiv.innerHTML = `<div class=\"error\" style=\"color:red;\">${err}</div>`;\n",
       "      throw err;\n",
       "    }\n",
       "\n",
       "    function displayChart(vegaEmbed) {\n",
       "      vegaEmbed(outputDiv, spec, embedOpt)\n",
       "        .catch(err => showError(`Javascript Error: ${err.message}<br>This usually means there's a typo in your chart specification. See the javascript console for the full traceback.`));\n",
       "    }\n",
       "\n",
       "    if(typeof define === \"function\" && define.amd) {\n",
       "      requirejs.config({paths});\n",
       "      require([\"vega-embed\"], displayChart, err => showError(`Error loading script: ${err.message}`));\n",
       "    } else {\n",
       "      maybeLoadScript(\"vega\", \"5\")\n",
       "        .then(() => maybeLoadScript(\"vega-lite\", \"5.16.3\"))\n",
       "        .then(() => maybeLoadScript(\"vega-embed\", \"6\"))\n",
       "        .catch(showError)\n",
       "        .then(() => displayChart(vegaEmbed));\n",
       "    }\n",
       "  })({\"config\": {\"view\": {\"continuousWidth\": 300, \"continuousHeight\": 300}, \"axis\": {\"labelFontSize\": 12, \"titleFontSize\": 12}}, \"data\": {\"name\": \"data-da2fe38c42e4140f38038ef71ba2a3b3\"}, \"mark\": {\"type\": \"line\", \"point\": true}, \"encoding\": {\"color\": {\"field\": \"tool\", \"type\": \"nominal\"}, \"tooltip\": [{\"field\": \"duration_min\", \"type\": \"quantitative\"}, {\"field\": \"genomes\", \"type\": \"quantitative\"}, {\"field\": \"total_sequence_length\", \"type\": \"quantitative\"}, {\"field\": \"number_of_contigs\", \"type\": \"quantitative\"}, {\"field\": \"bases\", \"type\": \"quantitative\"}, {\"field\": \"reads\", \"type\": \"quantitative\"}], \"x\": {\"field\": \"genomes\", \"type\": \"quantitative\"}, \"y\": {\"field\": \"duration_min\", \"title\": \"Wall time (min)\", \"type\": \"quantitative\"}}, \"height\": 300, \"width\": 600, \"$schema\": \"https://vega.github.io/schema/vega-lite/v5.16.3.json\", \"datasets\": {\"data-da2fe38c42e4140f38038ef71ba2a3b3\": [{\"genomes\": 1, \"duration_min\": 3.9166666666666665, \"tool\": \"CAMISIM v1.3\", \"total_sequence_length\": 3502975, \"number_of_contigs\": 2, \"bases\": 3502975.0, \"reads\": 17514.875}, {\"genomes\": 3, \"duration_min\": 4.283333333333333, \"tool\": \"CAMISIM v1.3\", \"total_sequence_length\": 6774179, \"number_of_contigs\": 9, \"bases\": 6774179.0, \"reads\": 33870.895}, {\"genomes\": 2, \"duration_min\": 8.8, \"tool\": \"CAMISIM v1.3\", \"total_sequence_length\": 8160866, \"number_of_contigs\": 3, \"bases\": 8160866.0, \"reads\": 40804.33}, {\"genomes\": 4, \"duration_min\": 9.0, \"tool\": \"CAMISIM v1.3\", \"total_sequence_length\": 10175797, \"number_of_contigs\": 8, \"bases\": 10175797.0, \"reads\": 50878.985}, {\"genomes\": 7, \"duration_min\": 13.3, \"tool\": \"CAMISIM v1.3\", \"total_sequence_length\": 20558298, \"number_of_contigs\": 10, \"bases\": 20558298.0, \"reads\": 102791.49}, {\"genomes\": 5, \"duration_min\": 23.783333333333335, \"tool\": \"CAMISIM v1.3\", \"total_sequence_length\": 21563198, \"number_of_contigs\": 7, \"bases\": 21563198.0, \"reads\": 107815.99}, {\"genomes\": 6, \"duration_min\": 20.716666666666665, \"tool\": \"CAMISIM v1.3\", \"total_sequence_length\": 25055301, \"number_of_contigs\": 12, \"bases\": 25055301.0, \"reads\": 125276.505}, {\"genomes\": 9, \"duration_min\": 36.75, \"tool\": \"CAMISIM v1.3\", \"total_sequence_length\": 35105455, \"number_of_contigs\": 17, \"bases\": 35105455.0, \"reads\": 175527.275}, {\"genomes\": 8, \"duration_min\": 33.11666666666667, \"tool\": \"CAMISIM v1.3\", \"total_sequence_length\": 35319318, \"number_of_contigs\": 13, \"bases\": 35319318.0, \"reads\": 176596.59}, {\"genomes\": 10, \"duration_min\": 31.75, \"tool\": \"CAMISIM v1.3\", \"total_sequence_length\": 39823809, \"number_of_contigs\": 20, \"bases\": 39823809.0, \"reads\": 199119.045}, {\"genomes\": 20, \"duration_min\": 60.13333333333333, \"tool\": \"CAMISIM v1.3\", \"total_sequence_length\": 70722151, \"number_of_contigs\": 28, \"bases\": 70722151.0, \"reads\": 353610.755}, {\"genomes\": 40, \"duration_min\": 95.68333333333334, \"tool\": \"CAMISIM v1.3\", \"total_sequence_length\": 138120060, \"number_of_contigs\": 75, \"bases\": 138120060.0, \"reads\": 690600.3}, {\"genomes\": 80, \"duration_min\": 275.1666666666667, \"tool\": \"CAMISIM v1.3\", \"total_sequence_length\": 319489510, \"number_of_contigs\": 125, \"bases\": 319489510.0, \"reads\": 1597447.55}, {\"genomes\": 160, \"duration_min\": 440.48333333333335, \"tool\": \"CAMISIM v1.3\", \"total_sequence_length\": 579788569, \"number_of_contigs\": 260, \"bases\": 579788569.0, \"reads\": 2898942.845}, {\"genomes\": 320, \"duration_min\": 916.1166666666667, \"tool\": \"CAMISIM v1.3\", \"total_sequence_length\": 1205375444, \"number_of_contigs\": 538, \"bases\": 1205375444.0, \"reads\": 6026877.22}, {\"genomes\": 640, \"duration_min\": 1833.5666666666666, \"tool\": \"CAMISIM v1.3\", \"total_sequence_length\": 2394501105, \"number_of_contigs\": 1056, \"bases\": 2394501105.0, \"reads\": 11972505.525}, {\"genomes\": 1, \"duration_min\": 1.9833333333333334, \"tool\": \"MeSS v0.8.0\", \"total_sequence_length\": 3502975, \"number_of_contigs\": 2, \"bases\": 3502975.0, \"reads\": 17514.875}, {\"genomes\": 3, \"duration_min\": 3.8, \"tool\": \"MeSS v0.8.0\", \"total_sequence_length\": 6774179, \"number_of_contigs\": 9, \"bases\": 6774179.0, \"reads\": 33870.895}, {\"genomes\": 2, \"duration_min\": 3.95, \"tool\": \"MeSS v0.8.0\", \"total_sequence_length\": 8160866, \"number_of_contigs\": 3, \"bases\": 8160866.0, \"reads\": 40804.33}, {\"genomes\": 4, \"duration_min\": 4.166666666666667, \"tool\": \"MeSS v0.8.0\", \"total_sequence_length\": 10175797, \"number_of_contigs\": 8, \"bases\": 10175797.0, \"reads\": 50878.985}, {\"genomes\": 7, \"duration_min\": 4.2, \"tool\": \"MeSS v0.8.0\", \"total_sequence_length\": 20558298, \"number_of_contigs\": 10, \"bases\": 20558298.0, \"reads\": 102791.49}, {\"genomes\": 5, \"duration_min\": 4.3, \"tool\": \"MeSS v0.8.0\", \"total_sequence_length\": 21563198, \"number_of_contigs\": 7, \"bases\": 21563198.0, \"reads\": 107815.99}, {\"genomes\": 6, \"duration_min\": 4.216666666666667, \"tool\": \"MeSS v0.8.0\", \"total_sequence_length\": 25055301, \"number_of_contigs\": 12, \"bases\": 25055301.0, \"reads\": 125276.505}, {\"genomes\": 9, \"duration_min\": 4.416666666666667, \"tool\": \"MeSS v0.8.0\", \"total_sequence_length\": 35105455, \"number_of_contigs\": 17, \"bases\": 35105455.0, \"reads\": 175527.275}, {\"genomes\": 8, \"duration_min\": 4.366666666666666, \"tool\": \"MeSS v0.8.0\", \"total_sequence_length\": 35319318, \"number_of_contigs\": 13, \"bases\": 35319318.0, \"reads\": 176596.59}, {\"genomes\": 10, \"duration_min\": 4.416666666666667, \"tool\": \"MeSS v0.8.0\", \"total_sequence_length\": 39823809, \"number_of_contigs\": 20, \"bases\": 39823809.0, \"reads\": 199119.045}, {\"genomes\": 20, \"duration_min\": 4.416666666666667, \"tool\": \"MeSS v0.8.0\", \"total_sequence_length\": 70722151, \"number_of_contigs\": 28, \"bases\": 70722151.0, \"reads\": 353610.755}, {\"genomes\": 40, \"duration_min\": 4.416666666666667, \"tool\": \"MeSS v0.8.0\", \"total_sequence_length\": 138120060, \"number_of_contigs\": 75, \"bases\": 138120060.0, \"reads\": 690600.3}, {\"genomes\": 80, \"duration_min\": 4.416666666666667, \"tool\": \"MeSS v0.8.0\", \"total_sequence_length\": 319489510, \"number_of_contigs\": 125, \"bases\": 319489510.0, \"reads\": 1597447.55}, {\"genomes\": 160, \"duration_min\": 5.166666666666667, \"tool\": \"MeSS v0.8.0\", \"total_sequence_length\": 579788569, \"number_of_contigs\": 260, \"bases\": 579788569.0, \"reads\": 2898942.845}, {\"genomes\": 320, \"duration_min\": 10.133333333333333, \"tool\": \"MeSS v0.8.0\", \"total_sequence_length\": 1205375444, \"number_of_contigs\": 538, \"bases\": 1205375444.0, \"reads\": 6026877.22}, {\"genomes\": 640, \"duration_min\": 19.7, \"tool\": \"MeSS v0.8.0\", \"total_sequence_length\": 2394501105, \"number_of_contigs\": 1056, \"bases\": 2394501105.0, \"reads\": 11972505.525}]}}, {\"mode\": \"vega-lite\"});\n",
       "</script>"
      ],
      "text/plain": [
       "alt.Chart(...)"
      ]
     },
     "execution_count": 77,
     "metadata": {},
     "output_type": "execute_result"
    }
   ],
   "source": [
    "line = (\n",
    "    alt.Chart(df[[\"genomes\",\"duration_min\",\"tool\",\"total_sequence_length\",\"number_of_contigs\",\"bases\",\"reads\"]])\n",
    "    .mark_line(point=True)\n",
    "    .encode(\n",
    "        x=alt.X(\"genomes\"),\n",
    "        y=alt.Y(\"duration_min\").title(\"Wall time (min)\"),\n",
    "        color=\"tool\",\n",
    "        tooltip=[\"duration_min\",\"genomes\",\"total_sequence_length\",\"number_of_contigs\",\"bases\",\"reads\"]\n",
    "    )\n",
    ").properties(\n",
    "    width=600,\n",
    "    height=300\n",
    ").configure_axis(\n",
    "    labelFontSize=12,\n",
    "    titleFontSize=12\n",
    ")\n",
    "line"
   ]
  },
  {
   "cell_type": "code",
   "execution_count": 55,
   "id": "2fdbebfe-bd1e-454f-b56f-14100cb06b07",
   "metadata": {},
   "outputs": [],
   "source": [
    "line.save('wall-time.svg', ppi=400)"
   ]
  },
  {
   "cell_type": "code",
   "execution_count": 78,
   "id": "c5dfa53d-50a6-4231-9f1a-1fc307e27892",
   "metadata": {},
   "outputs": [
    {
     "data": {
      "text/html": [
       "\n",
       "<style>\n",
       "  #altair-viz-930a562bc6c34079a7c4a188f3722a6d.vega-embed {\n",
       "    width: 100%;\n",
       "    display: flex;\n",
       "  }\n",
       "\n",
       "  #altair-viz-930a562bc6c34079a7c4a188f3722a6d.vega-embed details,\n",
       "  #altair-viz-930a562bc6c34079a7c4a188f3722a6d.vega-embed details summary {\n",
       "    position: relative;\n",
       "  }\n",
       "</style>\n",
       "<div id=\"altair-viz-930a562bc6c34079a7c4a188f3722a6d\"></div>\n",
       "<script type=\"text/javascript\">\n",
       "  var VEGA_DEBUG = (typeof VEGA_DEBUG == \"undefined\") ? {} : VEGA_DEBUG;\n",
       "  (function(spec, embedOpt){\n",
       "    let outputDiv = document.currentScript.previousElementSibling;\n",
       "    if (outputDiv.id !== \"altair-viz-930a562bc6c34079a7c4a188f3722a6d\") {\n",
       "      outputDiv = document.getElementById(\"altair-viz-930a562bc6c34079a7c4a188f3722a6d\");\n",
       "    }\n",
       "    const paths = {\n",
       "      \"vega\": \"https://cdn.jsdelivr.net/npm/vega@5?noext\",\n",
       "      \"vega-lib\": \"https://cdn.jsdelivr.net/npm/vega-lib?noext\",\n",
       "      \"vega-lite\": \"https://cdn.jsdelivr.net/npm/vega-lite@5.16.3?noext\",\n",
       "      \"vega-embed\": \"https://cdn.jsdelivr.net/npm/vega-embed@6?noext\",\n",
       "    };\n",
       "\n",
       "    function maybeLoadScript(lib, version) {\n",
       "      var key = `${lib.replace(\"-\", \"\")}_version`;\n",
       "      return (VEGA_DEBUG[key] == version) ?\n",
       "        Promise.resolve(paths[lib]) :\n",
       "        new Promise(function(resolve, reject) {\n",
       "          var s = document.createElement('script');\n",
       "          document.getElementsByTagName(\"head\")[0].appendChild(s);\n",
       "          s.async = true;\n",
       "          s.onload = () => {\n",
       "            VEGA_DEBUG[key] = version;\n",
       "            return resolve(paths[lib]);\n",
       "          };\n",
       "          s.onerror = () => reject(`Error loading script: ${paths[lib]}`);\n",
       "          s.src = paths[lib];\n",
       "        });\n",
       "    }\n",
       "\n",
       "    function showError(err) {\n",
       "      outputDiv.innerHTML = `<div class=\"error\" style=\"color:red;\">${err}</div>`;\n",
       "      throw err;\n",
       "    }\n",
       "\n",
       "    function displayChart(vegaEmbed) {\n",
       "      vegaEmbed(outputDiv, spec, embedOpt)\n",
       "        .catch(err => showError(`Javascript Error: ${err.message}<br>This usually means there's a typo in your chart specification. See the javascript console for the full traceback.`));\n",
       "    }\n",
       "\n",
       "    if(typeof define === \"function\" && define.amd) {\n",
       "      requirejs.config({paths});\n",
       "      require([\"vega-embed\"], displayChart, err => showError(`Error loading script: ${err.message}`));\n",
       "    } else {\n",
       "      maybeLoadScript(\"vega\", \"5\")\n",
       "        .then(() => maybeLoadScript(\"vega-lite\", \"5.16.3\"))\n",
       "        .then(() => maybeLoadScript(\"vega-embed\", \"6\"))\n",
       "        .catch(showError)\n",
       "        .then(() => displayChart(vegaEmbed));\n",
       "    }\n",
       "  })({\"config\": {\"view\": {\"continuousWidth\": 300, \"continuousHeight\": 300}, \"axis\": {\"labelFontSize\": 12, \"titleFontSize\": 12}}, \"data\": {\"name\": \"data-88e270da42bea59918d46595fee069ad\"}, \"mark\": {\"type\": \"line\", \"point\": true}, \"encoding\": {\"color\": {\"field\": \"tool\", \"type\": \"nominal\"}, \"tooltip\": [{\"field\": \"calc_time\", \"type\": \"quantitative\"}, {\"field\": \"genomes\", \"type\": \"quantitative\"}, {\"field\": \"total_sequence_length\", \"type\": \"quantitative\"}, {\"field\": \"number_of_contigs\", \"type\": \"quantitative\"}, {\"field\": \"bases\", \"type\": \"quantitative\"}, {\"field\": \"reads\", \"type\": \"quantitative\"}], \"x\": {\"field\": \"genomes\", \"type\": \"quantitative\"}, \"y\": {\"field\": \"calc_time\", \"title\": \"CPU time (min)\", \"type\": \"quantitative\"}}, \"height\": 300, \"width\": 600, \"$schema\": \"https://vega.github.io/schema/vega-lite/v5.16.3.json\", \"datasets\": {\"data-88e270da42bea59918d46595fee069ad\": [{\"genomes\": 1, \"calc_time\": 4.176666666666667, \"tool\": \"CAMISIM v1.3\", \"total_sequence_length\": 3502975, \"number_of_contigs\": 2, \"bases\": 3502975.0, \"reads\": 17514.875}, {\"genomes\": 3, \"calc_time\": 5.099483333333334, \"tool\": \"CAMISIM v1.3\", \"total_sequence_length\": 6774179, \"number_of_contigs\": 9, \"bases\": 6774179.0, \"reads\": 33870.895}, {\"genomes\": 2, \"calc_time\": 8.86425, \"tool\": \"CAMISIM v1.3\", \"total_sequence_length\": 8160866, \"number_of_contigs\": 3, \"bases\": 8160866.0, \"reads\": 40804.33}, {\"genomes\": 4, \"calc_time\": 9.491999999999999, \"tool\": \"CAMISIM v1.3\", \"total_sequence_length\": 10175797, \"number_of_contigs\": 8, \"bases\": 10175797.0, \"reads\": 50878.985}, {\"genomes\": 7, \"calc_time\": 14.521999999999998, \"tool\": \"CAMISIM v1.3\", \"total_sequence_length\": 20558298, \"number_of_contigs\": 10, \"bases\": 20558298.0, \"reads\": 102791.49}, {\"genomes\": 5, \"calc_time\": 25.032500000000002, \"tool\": \"CAMISIM v1.3\", \"total_sequence_length\": 21563198, \"number_of_contigs\": 7, \"bases\": 21563198.0, \"reads\": 107815.99}, {\"genomes\": 6, \"calc_time\": 22.275949999999998, \"tool\": \"CAMISIM v1.3\", \"total_sequence_length\": 25055301, \"number_of_contigs\": 12, \"bases\": 25055301.0, \"reads\": 125276.505}, {\"genomes\": 9, \"calc_time\": 38.6084, \"tool\": \"CAMISIM v1.3\", \"total_sequence_length\": 35105455, \"number_of_contigs\": 17, \"bases\": 35105455.0, \"reads\": 175527.275}, {\"genomes\": 8, \"calc_time\": 35.033, \"tool\": \"CAMISIM v1.3\", \"total_sequence_length\": 35319318, \"number_of_contigs\": 13, \"bases\": 35319318.0, \"reads\": 176596.59}, {\"genomes\": 10, \"calc_time\": 33.8734, \"tool\": \"CAMISIM v1.3\", \"total_sequence_length\": 39823809, \"number_of_contigs\": 20, \"bases\": 39823809.0, \"reads\": 199119.045}, {\"genomes\": 20, \"calc_time\": 63.483200000000004, \"tool\": \"CAMISIM v1.3\", \"total_sequence_length\": 70722151, \"number_of_contigs\": 28, \"bases\": 70722151.0, \"reads\": 353610.755}, {\"genomes\": 40, \"calc_time\": 101.11966666666666, \"tool\": \"CAMISIM v1.3\", \"total_sequence_length\": 138120060, \"number_of_contigs\": 75, \"bases\": 138120060.0, \"reads\": 690600.3}, {\"genomes\": 80, \"calc_time\": 286.9119166666666, \"tool\": \"CAMISIM v1.3\", \"total_sequence_length\": 319489510, \"number_of_contigs\": 125, \"bases\": 319489510.0, \"reads\": 1597447.55}, {\"genomes\": 160, \"calc_time\": 461.1337, \"tool\": \"CAMISIM v1.3\", \"total_sequence_length\": 579788569, \"number_of_contigs\": 260, \"bases\": 579788569.0, \"reads\": 2898942.845}, {\"genomes\": 320, \"calc_time\": 959.1218, \"tool\": \"CAMISIM v1.3\", \"total_sequence_length\": 1205375444, \"number_of_contigs\": 538, \"bases\": 1205375444.0, \"reads\": 6026877.22}, {\"genomes\": 640, \"calc_time\": 1916.0249166666665, \"tool\": \"CAMISIM v1.3\", \"total_sequence_length\": 2394501105, \"number_of_contigs\": 1056, \"bases\": 2394501105.0, \"reads\": 11972505.525}, {\"genomes\": 1, \"calc_time\": 0.9174666666666667, \"tool\": \"MeSS v0.8.0\", \"total_sequence_length\": 3502975, \"number_of_contigs\": 2, \"bases\": 3502975.0, \"reads\": 17514.875}, {\"genomes\": 3, \"calc_time\": 1.58343, \"tool\": \"MeSS v0.8.0\", \"total_sequence_length\": 6774179, \"number_of_contigs\": 9, \"bases\": 6774179.0, \"reads\": 33870.895}, {\"genomes\": 2, \"calc_time\": 1.4725600000000003, \"tool\": \"MeSS v0.8.0\", \"total_sequence_length\": 8160866, \"number_of_contigs\": 3, \"bases\": 8160866.0, \"reads\": 40804.33}, {\"genomes\": 4, \"calc_time\": 1.8196083333333333, \"tool\": \"MeSS v0.8.0\", \"total_sequence_length\": 10175797, \"number_of_contigs\": 8, \"bases\": 10175797.0, \"reads\": 50878.985}, {\"genomes\": 7, \"calc_time\": 2.419526666666666, \"tool\": \"MeSS v0.8.0\", \"total_sequence_length\": 20558298, \"number_of_contigs\": 10, \"bases\": 20558298.0, \"reads\": 102791.49}, {\"genomes\": 5, \"calc_time\": 2.010713333333333, \"tool\": \"MeSS v0.8.0\", \"total_sequence_length\": 21563198, \"number_of_contigs\": 7, \"bases\": 21563198.0, \"reads\": 107815.99}, {\"genomes\": 6, \"calc_time\": 2.6735249999999997, \"tool\": \"MeSS v0.8.0\", \"total_sequence_length\": 25055301, \"number_of_contigs\": 12, \"bases\": 25055301.0, \"reads\": 125276.505}, {\"genomes\": 9, \"calc_time\": 3.3569433333333336, \"tool\": \"MeSS v0.8.0\", \"total_sequence_length\": 35105455, \"number_of_contigs\": 17, \"bases\": 35105455.0, \"reads\": 175527.275}, {\"genomes\": 8, \"calc_time\": 3.7625700000000006, \"tool\": \"MeSS v0.8.0\", \"total_sequence_length\": 35319318, \"number_of_contigs\": 13, \"bases\": 35319318.0, \"reads\": 176596.59}, {\"genomes\": 10, \"calc_time\": 4.3171333333333335, \"tool\": \"MeSS v0.8.0\", \"total_sequence_length\": 39823809, \"number_of_contigs\": 20, \"bases\": 39823809.0, \"reads\": 199119.045}, {\"genomes\": 20, \"calc_time\": 6.333730000000001, \"tool\": \"MeSS v0.8.0\", \"total_sequence_length\": 70722151, \"number_of_contigs\": 28, \"bases\": 70722151.0, \"reads\": 353610.755}, {\"genomes\": 40, \"calc_time\": 13.9405, \"tool\": \"MeSS v0.8.0\", \"total_sequence_length\": 138120060, \"number_of_contigs\": 75, \"bases\": 138120060.0, \"reads\": 690600.3}, {\"genomes\": 80, \"calc_time\": 26.074566666666666, \"tool\": \"MeSS v0.8.0\", \"total_sequence_length\": 319489510, \"number_of_contigs\": 125, \"bases\": 319489510.0, \"reads\": 1597447.55}, {\"genomes\": 160, \"calc_time\": 47.9043, \"tool\": \"MeSS v0.8.0\", \"total_sequence_length\": 579788569, \"number_of_contigs\": 260, \"bases\": 579788569.0, \"reads\": 2898942.845}, {\"genomes\": 320, \"calc_time\": 94.35000000000001, \"tool\": \"MeSS v0.8.0\", \"total_sequence_length\": 1205375444, \"number_of_contigs\": 538, \"bases\": 1205375444.0, \"reads\": 6026877.22}, {\"genomes\": 640, \"calc_time\": 180.18600000000004, \"tool\": \"MeSS v0.8.0\", \"total_sequence_length\": 2394501105, \"number_of_contigs\": 1056, \"bases\": 2394501105.0, \"reads\": 11972505.525}]}}, {\"mode\": \"vega-lite\"});\n",
       "</script>"
      ],
      "text/plain": [
       "alt.Chart(...)"
      ]
     },
     "execution_count": 78,
     "metadata": {},
     "output_type": "execute_result"
    }
   ],
   "source": [
    "line = (\n",
    "    alt.Chart(df[[\"genomes\",\"calc_time\",\"tool\",\"total_sequence_length\",\"number_of_contigs\",\"bases\",\"reads\"]])\n",
    "    .mark_line(point=True)\n",
    "    .encode(\n",
    "        x=alt.X(\"genomes\"),\n",
    "        y=alt.Y(\"calc_time\").title(\"CPU time (min)\"),\n",
    "        color=\"tool\",\n",
    "        tooltip=[\"calc_time\",\"genomes\",\"total_sequence_length\",\"number_of_contigs\",\"bases\",\"reads\"]\n",
    "    )\n",
    ").properties(\n",
    "    width=600,\n",
    "    height=300\n",
    ").configure_axis(\n",
    "    labelFontSize=12,\n",
    "    titleFontSize=12,\n",
    ")\n",
    "line"
   ]
  },
  {
   "cell_type": "code",
   "execution_count": 79,
   "id": "6fdf2e14-9fe2-4919-b3aa-a81ed1ec0091",
   "metadata": {},
   "outputs": [
    {
     "data": {
      "text/plain": [
       "2.394167"
      ]
     },
     "execution_count": 79,
     "metadata": {},
     "output_type": "execute_result"
    }
   ],
   "source": [
    "2394167000 / 10**9"
   ]
  },
  {
   "cell_type": "code",
   "execution_count": 64,
   "id": "28ae65d6-c708-4718-b888-73ba1d647727",
   "metadata": {},
   "outputs": [],
   "source": [
    "line.save('cpu-time.svg', ppi=400)"
   ]
  }
 ],
 "metadata": {
  "kernelspec": {
   "display_name": "Python 3 (ipykernel)",
   "language": "python",
   "name": "python3"
  },
  "language_info": {
   "codemirror_mode": {
    "name": "ipython",
    "version": 3
   },
   "file_extension": ".py",
   "mimetype": "text/x-python",
   "name": "python",
   "nbconvert_exporter": "python",
   "pygments_lexer": "ipython3",
   "version": "3.12.3"
  }
 },
 "nbformat": 4,
 "nbformat_minor": 5
}
