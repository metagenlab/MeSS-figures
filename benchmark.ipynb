{
 "cells": [
  {
   "cell_type": "code",
   "execution_count": 45,
   "id": "55130a37-3b64-4ef6-971c-293ffe490755",
   "metadata": {},
   "outputs": [],
   "source": [
    "import pandas as pd\n",
    "import altair as alt\n",
    "from humanfriendly import parse_size"
   ]
  },
  {
   "cell_type": "code",
   "execution_count": 46,
   "id": "76bedf63-e045-4e22-9a5a-6a7c69850442",
   "metadata": {},
   "outputs": [],
   "source": [
    "def convert_to_timedelta(duration_str, unit=\"m\"):\n",
    "    conv = {\"d\": 86400,\"h\": 3600, \"m\": 60}\n",
    "    vals = duration_str.split(\" \")\n",
    "    total = 0\n",
    "    for val in vals:\n",
    "        if \"d\" in val:\n",
    "            total += int(val.replace(\"d\", \"\")) * conv[\"d\"]\n",
    "        if \"h\" in val:\n",
    "            total += int(val.replace(\"h\", \"\")) * conv[\"h\"]\n",
    "        if \"m\" in val and \"ms\" not in val:\n",
    "            total += int(val.replace(\"m\", \"\")) * conv[\"m\"]\n",
    "        if \"s\" in val:\n",
    "            total += float(val.replace(\"s\", \"\"))\n",
    "    return pd.Timedelta(total, unit=\"s\").total_seconds() / conv[unit]"
   ]
  },
  {
   "cell_type": "code",
   "execution_count": 47,
   "id": "68efec52-71e8-41ce-a7cd-3a5f088fe66b",
   "metadata": {},
   "outputs": [],
   "source": [
    "df = pd.read_csv(\"data/execution_trace_2024-09-19_01-28-53.txt\", sep=\"\\t\")"
   ]
  },
  {
   "cell_type": "code",
   "execution_count": 48,
   "id": "d32bebd6",
   "metadata": {},
   "outputs": [],
   "source": [
    "df[\"tool\"] = df.name.str.split(\":\", expand=True)[1].str.split(\" \",expand=True)[0]"
   ]
  },
  {
   "cell_type": "code",
   "execution_count": 49,
   "id": "60950f30-a4a2-46e3-83f1-976fb8a22993",
   "metadata": {},
   "outputs": [],
   "source": [
    "df = df[(df.name.str.contains(\"RUN:MESS\")) | (df.name.str.contains(\"RUN:CAMISIM:SIMULATE\"))]\n",
    "df[\"genomes\"] = df.name.str.split(\" \", expand=True)[1].str.replace(\"(\", \"\").str.replace(\")\", \"\")\n",
    "df[\"genomes\"] = [int(nb) for nb in df[\"genomes\"]]"
   ]
  },
  {
   "cell_type": "code",
   "execution_count": 51,
   "id": "3da47b6a",
   "metadata": {},
   "outputs": [],
   "source": [
    "df[\"duration_min\"] = df.duration.apply(convert_to_timedelta)\n",
    "df[\"realtime_min\"] = df.realtime.apply(convert_to_timedelta)"
   ]
  },
  {
   "cell_type": "code",
   "execution_count": 52,
   "id": "29b6c5b6-7b65-4f96-ad2f-5a2a6c0ad595",
   "metadata": {},
   "outputs": [],
   "source": [
    "df[\"tool\"] = df[\"tool\"].replace({\"MESS\": \"MeSS v0.9.0\", \"CAMISIM\": \"CAMISIM v1.3.0\"})"
   ]
  },
  {
   "cell_type": "code",
   "execution_count": 53,
   "id": "6807cebe-63be-45a5-81d8-509a301bd243",
   "metadata": {},
   "outputs": [],
   "source": [
    "df[\"RAM\"] = [parse_size(size) / 10**9 for size in df.peak_rss]\n",
    "df[\"%cpu\"] = [float(usage.replace(\"%\",\"\")) for usage in df[\"%cpu\"]]\n",
    "df[\"cpu\"] = [cpu / 100 for cpu in df[\"%cpu\"]]\n",
    "df[\"calc_time\"] = df[\"realtime_min\"] * df[\"cpu\"]"
   ]
  },
  {
   "cell_type": "code",
   "execution_count": 54,
   "id": "dc15800b-b846-4000-9728-834bddddb42f",
   "metadata": {},
   "outputs": [
    {
     "data": {
      "text/html": [
       "\n",
       "<style>\n",
       "  #altair-viz-aed574d32cdb4f32ba59d1a269ad1aff.vega-embed {\n",
       "    width: 100%;\n",
       "    display: flex;\n",
       "  }\n",
       "\n",
       "  #altair-viz-aed574d32cdb4f32ba59d1a269ad1aff.vega-embed details,\n",
       "  #altair-viz-aed574d32cdb4f32ba59d1a269ad1aff.vega-embed details summary {\n",
       "    position: relative;\n",
       "  }\n",
       "</style>\n",
       "<div id=\"altair-viz-aed574d32cdb4f32ba59d1a269ad1aff\"></div>\n",
       "<script type=\"text/javascript\">\n",
       "  var VEGA_DEBUG = (typeof VEGA_DEBUG == \"undefined\") ? {} : VEGA_DEBUG;\n",
       "  (function(spec, embedOpt){\n",
       "    let outputDiv = document.currentScript.previousElementSibling;\n",
       "    if (outputDiv.id !== \"altair-viz-aed574d32cdb4f32ba59d1a269ad1aff\") {\n",
       "      outputDiv = document.getElementById(\"altair-viz-aed574d32cdb4f32ba59d1a269ad1aff\");\n",
       "    }\n",
       "    const paths = {\n",
       "      \"vega\": \"https://cdn.jsdelivr.net/npm/vega@5?noext\",\n",
       "      \"vega-lib\": \"https://cdn.jsdelivr.net/npm/vega-lib?noext\",\n",
       "      \"vega-lite\": \"https://cdn.jsdelivr.net/npm/vega-lite@5.20.1?noext\",\n",
       "      \"vega-embed\": \"https://cdn.jsdelivr.net/npm/vega-embed@6?noext\",\n",
       "    };\n",
       "\n",
       "    function maybeLoadScript(lib, version) {\n",
       "      var key = `${lib.replace(\"-\", \"\")}_version`;\n",
       "      return (VEGA_DEBUG[key] == version) ?\n",
       "        Promise.resolve(paths[lib]) :\n",
       "        new Promise(function(resolve, reject) {\n",
       "          var s = document.createElement('script');\n",
       "          document.getElementsByTagName(\"head\")[0].appendChild(s);\n",
       "          s.async = true;\n",
       "          s.onload = () => {\n",
       "            VEGA_DEBUG[key] = version;\n",
       "            return resolve(paths[lib]);\n",
       "          };\n",
       "          s.onerror = () => reject(`Error loading script: ${paths[lib]}`);\n",
       "          s.src = paths[lib];\n",
       "        });\n",
       "    }\n",
       "\n",
       "    function showError(err) {\n",
       "      outputDiv.innerHTML = `<div class=\"error\" style=\"color:red;\">${err}</div>`;\n",
       "      throw err;\n",
       "    }\n",
       "\n",
       "    function displayChart(vegaEmbed) {\n",
       "      vegaEmbed(outputDiv, spec, embedOpt)\n",
       "        .catch(err => showError(`Javascript Error: ${err.message}<br>This usually means there's a typo in your chart specification. See the javascript console for the full traceback.`));\n",
       "    }\n",
       "\n",
       "    if(typeof define === \"function\" && define.amd) {\n",
       "      requirejs.config({paths});\n",
       "      require([\"vega-embed\"], displayChart, err => showError(`Error loading script: ${err.message}`));\n",
       "    } else {\n",
       "      maybeLoadScript(\"vega\", \"5\")\n",
       "        .then(() => maybeLoadScript(\"vega-lite\", \"5.20.1\"))\n",
       "        .then(() => maybeLoadScript(\"vega-embed\", \"6\"))\n",
       "        .catch(showError)\n",
       "        .then(() => displayChart(vegaEmbed));\n",
       "    }\n",
       "  })({\"config\": {\"view\": {\"continuousWidth\": 300, \"continuousHeight\": 300}, \"axis\": {\"labelFontSize\": 12, \"titleFontSize\": 12}}, \"data\": {\"name\": \"data-a32a80387b0afa88ee37902fc84ccedd\"}, \"mark\": {\"type\": \"boxplot\", \"size\": 90}, \"encoding\": {\"color\": {\"field\": \"tool\", \"legend\": null, \"type\": \"nominal\"}, \"x\": {\"axis\": {\"labelAngle\": 0}, \"field\": \"tool\", \"type\": \"nominal\"}, \"y\": {\"field\": \"RAM\", \"title\": \"RAM (GB)\", \"type\": \"quantitative\"}}, \"height\": 300, \"width\": 600, \"$schema\": \"https://vega.github.io/schema/vega-lite/v5.20.1.json\", \"datasets\": {\"data-a32a80387b0afa88ee37902fc84ccedd\": [{\"tool\": \"MeSS v0.9.0\", \"RAM\": 0.607}, {\"tool\": \"MeSS v0.9.0\", \"RAM\": 1.3}, {\"tool\": \"MeSS v0.9.0\", \"RAM\": 0.9339}, {\"tool\": \"MeSS v0.9.0\", \"RAM\": 1.3}, {\"tool\": \"MeSS v0.9.0\", \"RAM\": 1.9}, {\"tool\": \"MeSS v0.9.0\", \"RAM\": 1.3}, {\"tool\": \"MeSS v0.9.0\", \"RAM\": 0.822}, {\"tool\": \"MeSS v0.9.0\", \"RAM\": 1.7}, {\"tool\": \"MeSS v0.9.0\", \"RAM\": 1.4}, {\"tool\": \"MeSS v0.9.0\", \"RAM\": 1.9}, {\"tool\": \"MeSS v0.9.0\", \"RAM\": 1.4}, {\"tool\": \"MeSS v0.9.0\", \"RAM\": 2.1}, {\"tool\": \"CAMISIM v1.3.0\", \"RAM\": 38.6}, {\"tool\": \"MeSS v0.9.0\", \"RAM\": 4.099999999}, {\"tool\": \"CAMISIM v1.3.0\", \"RAM\": 38.7}, {\"tool\": \"MeSS v0.9.0\", \"RAM\": 7.0}, {\"tool\": \"CAMISIM v1.3.0\", \"RAM\": 22.1}, {\"tool\": \"CAMISIM v1.3.0\", \"RAM\": 35.9}, {\"tool\": \"MeSS v0.9.0\", \"RAM\": 12.8}, {\"tool\": \"CAMISIM v1.3.0\", \"RAM\": 38.6}, {\"tool\": \"CAMISIM v1.3.0\", \"RAM\": 33.1}, {\"tool\": \"CAMISIM v1.3.0\", \"RAM\": 38.7}, {\"tool\": \"MeSS v0.9.0\", \"RAM\": 25.1}, {\"tool\": \"CAMISIM v1.3.0\", \"RAM\": 38.6}, {\"tool\": \"CAMISIM v1.3.0\", \"RAM\": 38.7}, {\"tool\": \"CAMISIM v1.3.0\", \"RAM\": 38.7}, {\"tool\": \"CAMISIM v1.3.0\", \"RAM\": 38.7}, {\"tool\": \"CAMISIM v1.3.0\", \"RAM\": 38.8}, {\"tool\": \"CAMISIM v1.3.0\", \"RAM\": 38.9}, {\"tool\": \"CAMISIM v1.3.0\", \"RAM\": 39.7}, {\"tool\": \"CAMISIM v1.3.0\", \"RAM\": 41.9}, {\"tool\": \"CAMISIM v1.3.0\", \"RAM\": 45.6}]}}, {\"mode\": \"vega-lite\"});\n",
       "</script>"
      ],
      "text/plain": [
       "alt.Chart(...)"
      ]
     },
     "execution_count": 54,
     "metadata": {},
     "output_type": "execute_result"
    }
   ],
   "source": [
    "bp = alt.Chart(df[[\"tool\",\"RAM\"]]).mark_boxplot(size=90).encode(\n",
    "    alt.X(\"tool:N\", axis=alt.Axis(labelAngle=0)),\n",
    "    alt.Y(\"RAM:Q\").title(\"RAM (GB)\"),\n",
    "    alt.Color(\"tool:N\").legend(None),\n",
    ").properties(\n",
    "    width=600,\n",
    "    height=300\n",
    ").configure_axis(\n",
    "    labelFontSize=12,\n",
    "    titleFontSize=12\n",
    ")\n",
    "bp"
   ]
  },
  {
   "cell_type": "code",
   "execution_count": 56,
   "id": "0e63eb1e-d53e-4d7c-b52f-aacc3e10868c",
   "metadata": {},
   "outputs": [],
   "source": [
    "bp.save('figures/ram-usage.png', ppi=400)"
   ]
  },
  {
   "cell_type": "code",
   "execution_count": 57,
   "id": "ceb61cb7-b66f-453e-8d27-3d078eca9891",
   "metadata": {},
   "outputs": [
    {
     "data": {
      "text/html": [
       "\n",
       "<style>\n",
       "  #altair-viz-7f892342498e482faf541b9e0557dd52.vega-embed {\n",
       "    width: 100%;\n",
       "    display: flex;\n",
       "  }\n",
       "\n",
       "  #altair-viz-7f892342498e482faf541b9e0557dd52.vega-embed details,\n",
       "  #altair-viz-7f892342498e482faf541b9e0557dd52.vega-embed details summary {\n",
       "    position: relative;\n",
       "  }\n",
       "</style>\n",
       "<div id=\"altair-viz-7f892342498e482faf541b9e0557dd52\"></div>\n",
       "<script type=\"text/javascript\">\n",
       "  var VEGA_DEBUG = (typeof VEGA_DEBUG == \"undefined\") ? {} : VEGA_DEBUG;\n",
       "  (function(spec, embedOpt){\n",
       "    let outputDiv = document.currentScript.previousElementSibling;\n",
       "    if (outputDiv.id !== \"altair-viz-7f892342498e482faf541b9e0557dd52\") {\n",
       "      outputDiv = document.getElementById(\"altair-viz-7f892342498e482faf541b9e0557dd52\");\n",
       "    }\n",
       "    const paths = {\n",
       "      \"vega\": \"https://cdn.jsdelivr.net/npm/vega@5?noext\",\n",
       "      \"vega-lib\": \"https://cdn.jsdelivr.net/npm/vega-lib?noext\",\n",
       "      \"vega-lite\": \"https://cdn.jsdelivr.net/npm/vega-lite@5.20.1?noext\",\n",
       "      \"vega-embed\": \"https://cdn.jsdelivr.net/npm/vega-embed@6?noext\",\n",
       "    };\n",
       "\n",
       "    function maybeLoadScript(lib, version) {\n",
       "      var key = `${lib.replace(\"-\", \"\")}_version`;\n",
       "      return (VEGA_DEBUG[key] == version) ?\n",
       "        Promise.resolve(paths[lib]) :\n",
       "        new Promise(function(resolve, reject) {\n",
       "          var s = document.createElement('script');\n",
       "          document.getElementsByTagName(\"head\")[0].appendChild(s);\n",
       "          s.async = true;\n",
       "          s.onload = () => {\n",
       "            VEGA_DEBUG[key] = version;\n",
       "            return resolve(paths[lib]);\n",
       "          };\n",
       "          s.onerror = () => reject(`Error loading script: ${paths[lib]}`);\n",
       "          s.src = paths[lib];\n",
       "        });\n",
       "    }\n",
       "\n",
       "    function showError(err) {\n",
       "      outputDiv.innerHTML = `<div class=\"error\" style=\"color:red;\">${err}</div>`;\n",
       "      throw err;\n",
       "    }\n",
       "\n",
       "    function displayChart(vegaEmbed) {\n",
       "      vegaEmbed(outputDiv, spec, embedOpt)\n",
       "        .catch(err => showError(`Javascript Error: ${err.message}<br>This usually means there's a typo in your chart specification. See the javascript console for the full traceback.`));\n",
       "    }\n",
       "\n",
       "    if(typeof define === \"function\" && define.amd) {\n",
       "      requirejs.config({paths});\n",
       "      require([\"vega-embed\"], displayChart, err => showError(`Error loading script: ${err.message}`));\n",
       "    } else {\n",
       "      maybeLoadScript(\"vega\", \"5\")\n",
       "        .then(() => maybeLoadScript(\"vega-lite\", \"5.20.1\"))\n",
       "        .then(() => maybeLoadScript(\"vega-embed\", \"6\"))\n",
       "        .catch(showError)\n",
       "        .then(() => displayChart(vegaEmbed));\n",
       "    }\n",
       "  })({\"config\": {\"view\": {\"continuousWidth\": 300, \"continuousHeight\": 300}, \"axis\": {\"labelFontSize\": 12, \"titleFontSize\": 12}}, \"data\": {\"name\": \"data-bf7ffe7e54dd60c1f0af293e53799d97\"}, \"mark\": {\"type\": \"boxplot\", \"size\": 90}, \"encoding\": {\"color\": {\"field\": \"tool\", \"legend\": null, \"type\": \"nominal\"}, \"x\": {\"axis\": {\"labelAngle\": 0}, \"field\": \"tool\", \"type\": \"nominal\"}, \"y\": {\"field\": \"cpu\", \"title\": \"CPU usage\", \"type\": \"quantitative\"}}, \"height\": 300, \"width\": 600, \"$schema\": \"https://vega.github.io/schema/vega-lite/v5.20.1.json\", \"datasets\": {\"data-bf7ffe7e54dd60c1f0af293e53799d97\": [{\"tool\": \"MeSS v0.9.0\", \"cpu\": 1.6969999999999998}, {\"tool\": \"MeSS v0.9.0\", \"cpu\": 3.943}, {\"tool\": \"MeSS v0.9.0\", \"cpu\": 3.55}, {\"tool\": \"MeSS v0.9.0\", \"cpu\": 5.715}, {\"tool\": \"MeSS v0.9.0\", \"cpu\": 8.367}, {\"tool\": \"MeSS v0.9.0\", \"cpu\": 5.247000000000001}, {\"tool\": \"MeSS v0.9.0\", \"cpu\": 3.013}, {\"tool\": \"MeSS v0.9.0\", \"cpu\": 5.843999999999999}, {\"tool\": \"MeSS v0.9.0\", \"cpu\": 6.877999999999999}, {\"tool\": \"MeSS v0.9.0\", \"cpu\": 6.732}, {\"tool\": \"MeSS v0.9.0\", \"cpu\": 7.9270000000000005}, {\"tool\": \"MeSS v0.9.0\", \"cpu\": 9.18}, {\"tool\": \"CAMISIM v1.3.0\", \"cpu\": 1.11}, {\"tool\": \"MeSS v0.9.0\", \"cpu\": 9.852}, {\"tool\": \"CAMISIM v1.3.0\", \"cpu\": 1.08}, {\"tool\": \"MeSS v0.9.0\", \"cpu\": 10.577}, {\"tool\": \"CAMISIM v1.3.0\", \"cpu\": 1.101}, {\"tool\": \"CAMISIM v1.3.0\", \"cpu\": 1.215}, {\"tool\": \"MeSS v0.9.0\", \"cpu\": 10.264000000000001}, {\"tool\": \"CAMISIM v1.3.0\", \"cpu\": 1.0859999999999999}, {\"tool\": \"CAMISIM v1.3.0\", \"cpu\": 1.136}, {\"tool\": \"CAMISIM v1.3.0\", \"cpu\": 1.143}, {\"tool\": \"MeSS v0.9.0\", \"cpu\": 9.386000000000001}, {\"tool\": \"CAMISIM v1.3.0\", \"cpu\": 1.225}, {\"tool\": \"CAMISIM v1.3.0\", \"cpu\": 1.067}, {\"tool\": \"CAMISIM v1.3.0\", \"cpu\": 1.085}, {\"tool\": \"CAMISIM v1.3.0\", \"cpu\": 1.091}, {\"tool\": \"CAMISIM v1.3.0\", \"cpu\": 1.284}, {\"tool\": \"CAMISIM v1.3.0\", \"cpu\": 1.56}, {\"tool\": \"CAMISIM v1.3.0\", \"cpu\": 2.044}, {\"tool\": \"CAMISIM v1.3.0\", \"cpu\": 2.8689999999999998}, {\"tool\": \"CAMISIM v1.3.0\", \"cpu\": 4.187}]}}, {\"mode\": \"vega-lite\"});\n",
       "</script>"
      ],
      "text/plain": [
       "alt.Chart(...)"
      ]
     },
     "execution_count": 57,
     "metadata": {},
     "output_type": "execute_result"
    }
   ],
   "source": [
    "bp = alt.Chart(df[[\"tool\",\"cpu\"]]).mark_boxplot(size=90).encode(\n",
    "    alt.X(\"tool:N\",axis=alt.Axis(labelAngle=0)),\n",
    "    alt.Y(\"cpu:Q\").title(\"CPU usage\"),\n",
    "    alt.Color(\"tool:N\").legend(None),\n",
    ").properties(\n",
    "    width=600,\n",
    "    height=300\n",
    ").configure_axis(\n",
    "    labelFontSize=12,\n",
    "    titleFontSize=12\n",
    ")\n",
    "bp"
   ]
  },
  {
   "cell_type": "code",
   "execution_count": 58,
   "id": "3689faec-872f-42ff-a0d5-45924d777e47",
   "metadata": {},
   "outputs": [],
   "source": [
    "bp.save('figures/cpu-usage.png', ppi=400)"
   ]
  },
  {
   "cell_type": "code",
   "execution_count": 59,
   "id": "c5dfa53d-50a6-4231-9f1a-1fc307e27892",
   "metadata": {},
   "outputs": [
    {
     "data": {
      "text/html": [
       "\n",
       "<style>\n",
       "  #altair-viz-2c2f4547f1374e0f9da6bb8ef8cb2238.vega-embed {\n",
       "    width: 100%;\n",
       "    display: flex;\n",
       "  }\n",
       "\n",
       "  #altair-viz-2c2f4547f1374e0f9da6bb8ef8cb2238.vega-embed details,\n",
       "  #altair-viz-2c2f4547f1374e0f9da6bb8ef8cb2238.vega-embed details summary {\n",
       "    position: relative;\n",
       "  }\n",
       "</style>\n",
       "<div id=\"altair-viz-2c2f4547f1374e0f9da6bb8ef8cb2238\"></div>\n",
       "<script type=\"text/javascript\">\n",
       "  var VEGA_DEBUG = (typeof VEGA_DEBUG == \"undefined\") ? {} : VEGA_DEBUG;\n",
       "  (function(spec, embedOpt){\n",
       "    let outputDiv = document.currentScript.previousElementSibling;\n",
       "    if (outputDiv.id !== \"altair-viz-2c2f4547f1374e0f9da6bb8ef8cb2238\") {\n",
       "      outputDiv = document.getElementById(\"altair-viz-2c2f4547f1374e0f9da6bb8ef8cb2238\");\n",
       "    }\n",
       "    const paths = {\n",
       "      \"vega\": \"https://cdn.jsdelivr.net/npm/vega@5?noext\",\n",
       "      \"vega-lib\": \"https://cdn.jsdelivr.net/npm/vega-lib?noext\",\n",
       "      \"vega-lite\": \"https://cdn.jsdelivr.net/npm/vega-lite@5.20.1?noext\",\n",
       "      \"vega-embed\": \"https://cdn.jsdelivr.net/npm/vega-embed@6?noext\",\n",
       "    };\n",
       "\n",
       "    function maybeLoadScript(lib, version) {\n",
       "      var key = `${lib.replace(\"-\", \"\")}_version`;\n",
       "      return (VEGA_DEBUG[key] == version) ?\n",
       "        Promise.resolve(paths[lib]) :\n",
       "        new Promise(function(resolve, reject) {\n",
       "          var s = document.createElement('script');\n",
       "          document.getElementsByTagName(\"head\")[0].appendChild(s);\n",
       "          s.async = true;\n",
       "          s.onload = () => {\n",
       "            VEGA_DEBUG[key] = version;\n",
       "            return resolve(paths[lib]);\n",
       "          };\n",
       "          s.onerror = () => reject(`Error loading script: ${paths[lib]}`);\n",
       "          s.src = paths[lib];\n",
       "        });\n",
       "    }\n",
       "\n",
       "    function showError(err) {\n",
       "      outputDiv.innerHTML = `<div class=\"error\" style=\"color:red;\">${err}</div>`;\n",
       "      throw err;\n",
       "    }\n",
       "\n",
       "    function displayChart(vegaEmbed) {\n",
       "      vegaEmbed(outputDiv, spec, embedOpt)\n",
       "        .catch(err => showError(`Javascript Error: ${err.message}<br>This usually means there's a typo in your chart specification. See the javascript console for the full traceback.`));\n",
       "    }\n",
       "\n",
       "    if(typeof define === \"function\" && define.amd) {\n",
       "      requirejs.config({paths});\n",
       "      require([\"vega-embed\"], displayChart, err => showError(`Error loading script: ${err.message}`));\n",
       "    } else {\n",
       "      maybeLoadScript(\"vega\", \"5\")\n",
       "        .then(() => maybeLoadScript(\"vega-lite\", \"5.20.1\"))\n",
       "        .then(() => maybeLoadScript(\"vega-embed\", \"6\"))\n",
       "        .catch(showError)\n",
       "        .then(() => displayChart(vegaEmbed));\n",
       "    }\n",
       "  })({\"config\": {\"view\": {\"continuousWidth\": 300, \"continuousHeight\": 300}, \"axis\": {\"labelFontSize\": 12, \"titleFontSize\": 12}}, \"data\": {\"name\": \"data-f48fdf06040f40ff1729dbc736e4ee1c\"}, \"mark\": {\"type\": \"line\", \"point\": true}, \"encoding\": {\"color\": {\"field\": \"tool\", \"type\": \"nominal\"}, \"tooltip\": [{\"field\": \"calc_time\", \"type\": \"quantitative\"}, {\"field\": \"genomes\", \"type\": \"quantitative\"}], \"x\": {\"field\": \"genomes\", \"type\": \"quantitative\"}, \"y\": {\"field\": \"calc_time\", \"title\": \"CPU time (min)\", \"type\": \"quantitative\"}}, \"height\": 300, \"width\": 600, \"$schema\": \"https://vega.github.io/schema/vega-lite/v5.20.1.json\", \"datasets\": {\"data-f48fdf06040f40ff1729dbc736e4ee1c\": [{\"genomes\": 1, \"calc_time\": 0.33374333333333334, \"tool\": \"MeSS v0.9.0\"}, {\"genomes\": 2, \"calc_time\": 0.847745, \"tool\": \"MeSS v0.9.0\"}, {\"genomes\": 4, \"calc_time\": 0.8460833333333333, \"tool\": \"MeSS v0.9.0\"}, {\"genomes\": 9, \"calc_time\": 1.9812, \"tool\": \"MeSS v0.9.0\"}, {\"genomes\": 20, \"calc_time\": 3.7930400000000004, \"tool\": \"MeSS v0.9.0\"}, {\"genomes\": 5, \"calc_time\": 1.2330450000000002, \"tool\": \"MeSS v0.9.0\"}, {\"genomes\": 3, \"calc_time\": 0.6829466666666666, \"tool\": \"MeSS v0.9.0\"}, {\"genomes\": 7, \"calc_time\": 1.66554, \"tool\": \"MeSS v0.9.0\"}, {\"genomes\": 8, \"calc_time\": 2.2697399999999996, \"tool\": \"MeSS v0.9.0\"}, {\"genomes\": 10, \"calc_time\": 2.0308200000000003, \"tool\": \"MeSS v0.9.0\"}, {\"genomes\": 6, \"calc_time\": 3.6332083333333336, \"tool\": \"MeSS v0.9.0\"}, {\"genomes\": 40, \"calc_time\": 8.0631, \"tool\": \"MeSS v0.9.0\"}, {\"genomes\": 1, \"calc_time\": 1.3135000000000001, \"tool\": \"CAMISIM v1.3.0\"}, {\"genomes\": 80, \"calc_time\": 16.0916, \"tool\": \"MeSS v0.9.0\"}, {\"genomes\": 2, \"calc_time\": 3.3120000000000003, \"tool\": \"CAMISIM v1.3.0\"}, {\"genomes\": 160, \"calc_time\": 32.43613333333334, \"tool\": \"MeSS v0.9.0\"}, {\"genomes\": 3, \"calc_time\": 2.8992999999999998, \"tool\": \"CAMISIM v1.3.0\"}, {\"genomes\": 8, \"calc_time\": 3.6045000000000003, \"tool\": \"CAMISIM v1.3.0\"}, {\"genomes\": 320, \"calc_time\": 62.78146666666667, \"tool\": \"MeSS v0.9.0\"}, {\"genomes\": 4, \"calc_time\": 5.791999999999999, \"tool\": \"CAMISIM v1.3.0\"}, {\"genomes\": 5, \"calc_time\": 3.824533333333333, \"tool\": \"CAMISIM v1.3.0\"}, {\"genomes\": 9, \"calc_time\": 7.1628, \"tool\": \"CAMISIM v1.3.0\"}, {\"genomes\": 640, \"calc_time\": 119.67150000000001, \"tool\": \"MeSS v0.9.0\"}, {\"genomes\": 20, \"calc_time\": 18.43625, \"tool\": \"CAMISIM v1.3.0\"}, {\"genomes\": 7, \"calc_time\": 12.217149999999998, \"tool\": \"CAMISIM v1.3.0\"}, {\"genomes\": 6, \"calc_time\": 8.987416666666666, \"tool\": \"CAMISIM v1.3.0\"}, {\"genomes\": 10, \"calc_time\": 14.01935, \"tool\": \"CAMISIM v1.3.0\"}, {\"genomes\": 40, \"calc_time\": 55.4046, \"tool\": \"CAMISIM v1.3.0\"}, {\"genomes\": 80, \"calc_time\": 118.17, \"tool\": \"CAMISIM v1.3.0\"}, {\"genomes\": 160, \"calc_time\": 315.21886666666666, \"tool\": \"CAMISIM v1.3.0\"}, {\"genomes\": 320, \"calc_time\": 875.045, \"tool\": \"CAMISIM v1.3.0\"}, {\"genomes\": 640, \"calc_time\": 3213.5225, \"tool\": \"CAMISIM v1.3.0\"}]}}, {\"mode\": \"vega-lite\"});\n",
       "</script>"
      ],
      "text/plain": [
       "alt.Chart(...)"
      ]
     },
     "execution_count": 59,
     "metadata": {},
     "output_type": "execute_result"
    }
   ],
   "source": [
    "line = (\n",
    "    alt.Chart(df[[\"genomes\",\"calc_time\",\"tool\"]])\n",
    "    .mark_line(point=True)\n",
    "    .encode(\n",
    "        x=alt.X(\"genomes\"),\n",
    "        y=alt.Y(\"calc_time\").title(\"CPU time (min)\"),\n",
    "        color=\"tool\",\n",
    "        tooltip=[\"calc_time\",\"genomes\"]\n",
    "    )\n",
    ").properties(\n",
    "    width=600,\n",
    "    height=300\n",
    ").configure_axis(\n",
    "    labelFontSize=12,\n",
    "    titleFontSize=12,\n",
    ")\n",
    "line"
   ]
  },
  {
   "cell_type": "code",
   "execution_count": 60,
   "id": "28ae65d6-c708-4718-b888-73ba1d647727",
   "metadata": {},
   "outputs": [],
   "source": [
    "line.save('figures/cpu-time.png', ppi=400)"
   ]
  }
 ],
 "metadata": {
  "kernelspec": {
   "display_name": "Python 3 (ipykernel)",
   "language": "python",
   "name": "python3"
  },
  "language_info": {
   "codemirror_mode": {
    "name": "ipython",
    "version": 3
   },
   "file_extension": ".py",
   "mimetype": "text/x-python",
   "name": "python",
   "nbconvert_exporter": "python",
   "pygments_lexer": "ipython3",
   "version": "3.12.5"
  }
 },
 "nbformat": 4,
 "nbformat_minor": 5
}
