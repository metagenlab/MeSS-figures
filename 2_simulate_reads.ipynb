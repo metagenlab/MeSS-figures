{
 "cells": [
  {
   "cell_type": "markdown",
   "metadata": {
    "vscode": {
     "languageId": "shellscript"
    }
   },
   "source": [
    "# Simulate CAMISIM and MeSS reads"
   ]
  },
  {
   "cell_type": "markdown",
   "metadata": {
    "vscode": {
     "languageId": "shellscript"
    }
   },
   "source": [
    "## Clone repo"
   ]
  },
  {
   "cell_type": "code",
   "execution_count": null,
   "metadata": {
    "vscode": {
     "languageId": "shellscript"
    }
   },
   "outputs": [],
   "source": [
    "git clone https://github.com/metagenlab/benchmark-MeSS-CAMISIM"
   ]
  },
  {
   "cell_type": "markdown",
   "metadata": {},
   "source": [
    "## Setup NCBI API key\n",
    "\n",
    "Go to https://www.ncbi.nlm.nih.gov/account/login/ to create an NCBI account and get an API key.\n",
    "\n",
    "Before launching the pipeline set your key as a secret. \n",
    "\n",
    "Example:"
   ]
  },
  {
   "cell_type": "code",
   "execution_count": null,
   "metadata": {
    "vscode": {
     "languageId": "shellscript"
    }
   },
   "outputs": [],
   "source": [
    "nextflow secrets set NCBI_KEY 0123456789abcdef"
   ]
  },
  {
   "cell_type": "markdown",
   "metadata": {},
   "source": [
    "## Get Diversities data"
   ]
  },
  {
   "cell_type": "markdown",
   "metadata": {},
   "source": [
    "### Get simulated reads "
   ]
  },
  {
   "cell_type": "code",
   "execution_count": null,
   "metadata": {
    "vscode": {
     "languageId": "shellscript"
    }
   },
   "outputs": [],
   "source": [
    "container_prefix=$(realpath ./containers)\n",
    "nextflow run benchmark-MeSS-CAMISIM/main.nf \\\\\n",
    "        -params-file benchmark-MeSS-CAMISIM/run-params.yml \\\\\n",
    "        -c benchmark-MeSS-CAMISIM/nextflow.config \\\\\n",
    "        --input data/samples \\\\\n",
    "        --outdir reads/simulated \\\\\n",
    "        --container_prefix $container_prefix  "
   ]
  },
  {
   "cell_type": "markdown",
   "metadata": {},
   "source": [
    "### Symlink simulated reads"
   ]
  },
  {
   "cell_type": "code",
   "execution_count": null,
   "metadata": {
    "vscode": {
     "languageId": "shellscript"
    }
   },
   "outputs": [],
   "source": [
    "mkdir sim_fastq\n",
    "ln -s reads/simulated/camisim/camisim_SRS* sim_fastq\n",
    "ln -s reads/simulated/mess/*/*.fq.gz sim_fastq"
   ]
  },
  {
   "cell_type": "markdown",
   "metadata": {
    "vscode": {
     "languageId": "shellscript"
    }
   },
   "source": [
    "### Classify simulated reads"
   ]
  },
  {
   "cell_type": "code",
   "execution_count": null,
   "metadata": {
    "vscode": {
     "languageId": "shellscript"
    }
   },
   "outputs": [],
   "source": [
    "db_path=$(realpath ./k2db)\n",
    "nextflow run classify.nf -c nextflow.config \\\\\n",
    "        --input sim_fastq \\\\\n",
    "        --output reads/simulated/classified \\\\\n",
    "        --archive false \\\\\n",
    "        --fastp true \\\\\n",
    "        --threshold 200 \\\\ \n",
    "        --db $db_path "
   ]
  },
  {
   "cell_type": "markdown",
   "metadata": {},
   "source": [
    "> [!TIP]  \n",
    "> abundances from data/abundances are in reads/simulated/classified/abundances"
   ]
  },
  {
   "cell_type": "markdown",
   "metadata": {},
   "source": [
    "### Get otu table "
   ]
  },
  {
   "cell_type": "code",
   "execution_count": null,
   "metadata": {
    "vscode": {
     "languageId": "shellscript"
    }
   },
   "outputs": [],
   "source": [
    "./get_tables.py reads/simulated/classified/abundances"
   ]
  },
  {
   "cell_type": "markdown",
   "metadata": {
    "vscode": {
     "languageId": "shellscript"
    }
   },
   "source": [
    "### Get lineage table "
   ]
  },
  {
   "cell_type": "code",
   "execution_count": null,
   "metadata": {
    "vscode": {
     "languageId": "shellscript"
    }
   },
   "outputs": [],
   "source": [
    "taxonkit lineage data/uniq_taxids.tsv | \\\\\n",
    "taxonkit reformat | csvtk -H -t cut -f 1,3 | \\\\\n",
    "csvtk -H -t sep -f 2 -s ';' -R | \\\\\n",
    "csvtk add-header -t -n taxid,kindom,phylum,class,order,family,genus,species > data/lineage.tsv"
   ]
  },
  {
   "cell_type": "markdown",
   "metadata": {},
   "source": [
    "## Get resource usage data"
   ]
  },
  {
   "cell_type": "code",
   "execution_count": null,
   "metadata": {
    "vscode": {
     "languageId": "shellscript"
    }
   },
   "outputs": [],
   "source": [
    "container_prefix=$(realpath ./containers)\n",
    "nextflow run benchmark-MeSS-CAMISIM/main.nf \\\\\n",
    "        -params-file benchmark-MeSS-CAMISIM/subsets-params.yml \\\\\n",
    "        -c benchmark-MeSS-CAMISIM/nextflow.config \\\\\n",
    "        --outdir benchmark \\\\\n",
    "        --container_prefix $container_prefix  "
   ]
  },
  {
   "cell_type": "markdown",
   "metadata": {},
   "source": [
    "> [!TIP]  \n",
    "> Resources usage in benchmark/pipeline_info/execution_trace_*.txt"
   ]
  }
 ],
 "metadata": {
  "kernelspec": {
   "display_name": "Bash",
   "language": "bash",
   "name": "bash"
  },
  "language_info": {
   "codemirror_mode": "shell",
   "file_extension": ".sh",
   "mimetype": "text/x-sh",
   "name": "bash"
  }
 },
 "nbformat": 4,
 "nbformat_minor": 2
}
