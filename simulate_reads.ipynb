{
 "cells": [
  {
   "cell_type": "markdown",
   "metadata": {
    "vscode": {
     "languageId": "shellscript"
    }
   },
   "source": [
    "# Run MeSS and CAMISIM on taxonomic profiles obtained from download_and_classify_reads.ipynb"
   ]
  },
  {
   "cell_type": "code",
   "execution_count": 1,
   "metadata": {
    "vscode": {
     "languageId": "shellscript"
    }
   },
   "outputs": [
    {
     "name": "stdout",
     "output_type": "stream",
     "text": [
      "Cloning into 'benchmark-MeSS-CAMISIM'...\n",
      "remote: Enumerating objects: 184, done.        \n",
      "remote: Counting objects: 100% (184/184), done.        \n",
      "remote: Compressing objects: 100% (120/120), done.        \n",
      "remote: Total 184 (delta 63), reused 177 (delta 60), pack-reused 0 (from 0)        \n",
      "Receiving objects: 100% (184/184), 53.60 KiB | 4.87 MiB/s, done.\n",
      "Resolving deltas: 100% (63/63), done.\n"
     ]
    }
   ],
   "source": [
    "git clone https://github.com/metagenlab/benchmark-MeSS-CAMISIM"
   ]
  },
  {
   "cell_type": "code",
   "execution_count": null,
   "metadata": {
    "vscode": {
     "languageId": "shellscript"
    }
   },
   "outputs": [],
   "source": []
  }
 ],
 "metadata": {
  "kernelspec": {
   "display_name": "Bash",
   "language": "bash",
   "name": "bash"
  },
  "language_info": {
   "codemirror_mode": "shell",
   "file_extension": ".sh",
   "mimetype": "text/x-sh",
   "name": "bash"
  }
 },
 "nbformat": 4,
 "nbformat_minor": 2
}
