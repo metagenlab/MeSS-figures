{
 "cells": [
  {
   "cell_type": "markdown",
   "id": "362362ca-1dda-475d-8282-8d1f32793de7",
   "metadata": {},
   "source": [
    "# Download HMP reads"
   ]
  },
  {
   "cell_type": "markdown",
   "id": "f6cb0055-0189-4334-9e00-991ca6978036",
   "metadata": {},
   "source": [
    "## Install IGS-portal-client"
   ]
  },
  {
   "cell_type": "code",
   "execution_count": null,
   "id": "b0ab2fc2-501e-4ed0-9568-14354af8a610",
   "metadata": {
    "scrolled": true
   },
   "outputs": [],
   "source": [
    "git clone https://github.com/IGS/portal_client\n",
    "pip install -e portal_client"
   ]
  },
  {
   "cell_type": "markdown",
   "id": "d6355d90-5a7a-4994-b045-f823fe4586e1",
   "metadata": {},
   "source": [
    "## Download from manifest "
   ]
  },
  {
   "cell_type": "code",
   "execution_count": null,
   "id": "32ec27e7-b657-4304-9a5d-f18ea2087269",
   "metadata": {},
   "outputs": [],
   "source": [
    "portal_client --manifest manifest.tsv --destination reads "
   ]
  }
 ],
 "metadata": {
  "kernelspec": {
   "display_name": "Bash",
   "language": "bash",
   "name": "bash"
  },
  "language_info": {
   "codemirror_mode": "shell",
   "file_extension": ".sh",
   "mimetype": "text/x-sh",
   "name": "bash"
  }
 },
 "nbformat": 4,
 "nbformat_minor": 5
}
