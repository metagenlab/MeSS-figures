{
 "cells": [
  {
   "cell_type": "markdown",
   "id": "362362ca-1dda-475d-8282-8d1f32793de7",
   "metadata": {},
   "source": [
    "# Get HMP taxonomic profile (Kraken2 + Bracken)"
   ]
  },
  {
   "cell_type": "markdown",
   "id": "f4bf906a",
   "metadata": {},
   "source": [
    "## Download reads"
   ]
  },
  {
   "cell_type": "markdown",
   "id": "f6cb0055-0189-4334-9e00-991ca6978036",
   "metadata": {},
   "source": [
    "### Install IGS-portal-client"
   ]
  },
  {
   "cell_type": "code",
   "execution_count": null,
   "id": "abcfa58c-b976-4f91-9e69-84db2c35b5af",
   "metadata": {
    "scrolled": true,
    "vscode": {
     "languageId": "shellscript"
    }
   },
   "outputs": [],
   "source": [
    "git clone https://github.com/IGS/portal_client\n",
    "pip install -e portal_client"
   ]
  },
  {
   "cell_type": "markdown",
   "id": "d6355d90-5a7a-4994-b045-f823fe4586e1",
   "metadata": {},
   "source": [
    "### Download from manifest "
   ]
  },
  {
   "cell_type": "code",
   "execution_count": null,
   "id": "cbeb3756-032d-4b71-be46-69fdc36472ff",
   "metadata": {
    "vscode": {
     "languageId": "shellscript"
    }
   },
   "outputs": [],
   "source": [
    "portal_client --manifest data/manifest.tsv --destination reads "
   ]
  },
  {
   "cell_type": "markdown",
   "id": "9c121e04-e63a-4d4e-945f-bb08f1dfe930",
   "metadata": {},
   "source": [
    "> [!WARNING]  \n",
    "> Make sure you have at least 50GB of space"
   ]
  },
  {
   "cell_type": "markdown",
   "id": "00fa1c25",
   "metadata": {
    "vscode": {
     "languageId": "shellscript"
    }
   },
   "source": [
    "## Classify reads"
   ]
  },
  {
   "cell_type": "markdown",
   "id": "e012f871",
   "metadata": {
    "vscode": {
     "languageId": "shellscript"
    }
   },
   "source": [
    "### Download kraken2 index\n",
    "\n",
    "We can get a kraken2 index from https://benlangmead.github.io/aws-indexes/k2 using the [aws-cli](https://aws.amazon.com/cli/)"
   ]
  },
  {
   "cell_type": "markdown",
   "id": "d9f89fe0",
   "metadata": {
    "vscode": {
     "languageId": "shellscript"
    }
   },
   "source": [
    "> [!NOTE]  \n",
    "> Follow aws-cli install instructions [here](https://docs.aws.amazon.com/cli/latest/userguide/getting-started-install.html)"
   ]
  },
  {
   "cell_type": "code",
   "execution_count": null,
   "id": "df74cf9b-96bb-4f3a-ab74-84248e7273c8",
   "metadata": {
    "vscode": {
     "languageId": "shellscript"
    }
   },
   "outputs": [],
   "source": [
    "aws s3 cp --no-sign-request s3://genome-idx/kraken/k2_standard_20240605.tar.gz .\n",
    "mkdir k2db\n",
    "tar -xzvf k2_standard_20240605.tar.gz -C k2db"
   ]
  },
  {
   "cell_type": "markdown",
   "id": "3de50259",
   "metadata": {
    "vscode": {
     "languageId": "shellscript"
    }
   },
   "source": [
    "> [!WARNING]  \n",
    "> You need at least 70GB of ram to use this database"
   ]
  },
  {
   "cell_type": "markdown",
   "id": "bb534461",
   "metadata": {
    "vscode": {
     "languageId": "shellscript"
    }
   },
   "source": [
    "### Run the classify.nf script\n",
    "You need to install [nextflow](https://www.nextflow.io/docs/latest/install.html) and [apptainer](https://apptainer.org/docs/admin/main/installation.html#install-ubuntu-packages) to run classify.nf "
   ]
  },
  {
   "cell_type": "code",
   "execution_count": null,
   "id": "d9d1de3b-2f9b-46f5-a27e-882dc6bcef62",
   "metadata": {
    "vscode": {
     "languageId": "shellscript"
    }
   },
   "outputs": [],
   "source": [
    "nextflow run classify.nf -c nextflow.config -params-file params.yaml"
   ]
  },
  {
   "cell_type": "markdown",
   "id": "433c79e4",
   "metadata": {
    "vscode": {
     "languageId": "shellscript"
    }
   },
   "source": [
    "> [!TIP]\n",
    "> The taxonomic profiles are under results/abundances"
   ]
  }
 ],
 "metadata": {
  "kernelspec": {
   "display_name": "Bash",
   "language": "bash",
   "name": "bash"
  },
  "language_info": {
   "codemirror_mode": "shell",
   "file_extension": ".sh",
   "mimetype": "text/x-sh",
   "name": "bash"
  }
 },
 "nbformat": 4,
 "nbformat_minor": 5
}
