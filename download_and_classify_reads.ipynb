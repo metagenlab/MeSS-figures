{
 "cells": [
  {
   "cell_type": "markdown",
   "id": "362362ca-1dda-475d-8282-8d1f32793de7",
   "metadata": {},
   "source": [
    "# Get HMP taxonomic profile (Kraken2 + Bracken)"
   ]
  },
  {
   "cell_type": "markdown",
   "id": "f4bf906a",
   "metadata": {},
   "source": [
    "## Download reads"
   ]
  },
  {
   "cell_type": "markdown",
   "id": "f6cb0055-0189-4334-9e00-991ca6978036",
   "metadata": {},
   "source": [
    "### Install IGS-portal-client"
   ]
  },
  {
   "cell_type": "code",
   "execution_count": null,
   "id": "b0ab2fc2-501e-4ed0-9568-14354af8a610",
   "metadata": {
    "scrolled": true,
    "vscode": {
     "languageId": "shellscript"
    }
   },
   "outputs": [],
   "source": [
    "git clone https://github.com/IGS/portal_client\n",
    "pip install -e portal_client"
   ]
  },
  {
   "cell_type": "markdown",
   "id": "d6355d90-5a7a-4994-b045-f823fe4586e1",
   "metadata": {},
   "source": [
    "### Download from manifest "
   ]
  },
  {
   "cell_type": "code",
   "execution_count": null,
   "id": "32ec27e7-b657-4304-9a5d-f18ea2087269",
   "metadata": {
    "vscode": {
     "languageId": "shellscript"
    }
   },
   "outputs": [],
   "source": [
    "portal_client --manifest data/manifest.tsv --destination reads "
   ]
  },
  {
   "cell_type": "markdown",
   "id": "92adfe33",
   "metadata": {
    "vscode": {
     "languageId": "plaintext"
    }
   },
   "source": [
    "````{admonition} Warning\n",
    ":class: warning\n",
    "\n",
    "Make sure you have at least 50GB of space\n",
    "````\n"
   ]
  },
  {
   "cell_type": "markdown",
   "id": "00fa1c25",
   "metadata": {
    "vscode": {
     "languageId": "shellscript"
    }
   },
   "source": [
    "## Classify reads"
   ]
  },
  {
   "cell_type": "markdown",
   "id": "e012f871",
   "metadata": {
    "vscode": {
     "languageId": "shellscript"
    }
   },
   "source": [
    "### Download kraken2 index\n",
    "\n",
    "We can get kraken2 index from https://benlangmead.github.io/aws-indexes/k2 using the [aws-cli](https://aws.amazon.com/cli/)"
   ]
  },
  {
   "cell_type": "markdown",
   "id": "d9f89fe0",
   "metadata": {
    "vscode": {
     "languageId": "shellscript"
    }
   },
   "source": [
    "````{admonition} Note\n",
    ":class: note\n",
    "\n",
    "Follow aws-cli install instructions [here](https://docs.aws.amazon.com/cli/latest/userguide/getting-started-install.html)\n",
    "````"
   ]
  },
  {
   "cell_type": "code",
   "execution_count": null,
   "id": "015f0f7e",
   "metadata": {
    "vscode": {
     "languageId": "shellscript"
    }
   },
   "outputs": [],
   "source": [
    "aws s3 cp --no-sign-request s3://genome-idx/kraken/k2_standard_20240605.tar.gz .\n",
    "mkdir k2db\n",
    "tar -xzvf k2_standard_20240605.tar.gz -C k2db"
   ]
  },
  {
   "cell_type": "markdown",
   "id": "3de50259",
   "metadata": {
    "vscode": {
     "languageId": "shellscript"
    }
   },
   "source": [
    "````{admonition} Warning\n",
    ":class: warning\n",
    "\n",
    "You need at least 70GB of ram to use this database\n",
    "````"
   ]
  },
  {
   "cell_type": "markdown",
   "id": "bb534461",
   "metadata": {
    "vscode": {
     "languageId": "shellscript"
    }
   },
   "source": [
    "### Run the classify.nf script\n",
    "You need to install [nextflow](https://www.nextflow.io/docs/latest/install.html) and [apptainer](https://apptainer.org/docs/admin/main/installation.html#install-ubuntu-packages) to run classify.nf "
   ]
  },
  {
   "cell_type": "code",
   "execution_count": null,
   "id": "b4abae43",
   "metadata": {
    "vscode": {
     "languageId": "shellscript"
    }
   },
   "outputs": [],
   "source": [
    "nextflow run classify.nf -c nextflow.config -params-file params.yaml"
   ]
  },
  {
   "cell_type": "markdown",
   "id": "433c79e4",
   "metadata": {
    "vscode": {
     "languageId": "shellscript"
    }
   },
   "source": [
    "````{admonition} Tip\n",
    ":class: tip\n",
    "\n",
    "The taxonomic profiles are under results/abundances\n",
    "````"
   ]
  }
 ],
 "metadata": {
  "kernelspec": {
   "display_name": "base",
   "language": "python",
   "name": "python3"
  },
  "language_info": {
   "codemirror_mode": {
    "name": "ipython",
    "version": 3
   },
   "file_extension": ".py",
   "mimetype": "text/x-python",
   "name": "python",
   "nbconvert_exporter": "python",
   "pygments_lexer": "ipython3",
   "version": "3.12.3"
  }
 },
 "nbformat": 4,
 "nbformat_minor": 5
}
