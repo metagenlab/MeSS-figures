{
 "cells": [
  {
   "cell_type": "markdown",
   "id": "362362ca-1dda-475d-8282-8d1f32793de7",
   "metadata": {},
   "source": [
    "# Get HMP taxonomic profile (Kraken2 + Bracken)\n"
   ]
  },
  {
   "cell_type": "markdown",
   "id": "91b53d5b-812f-468e-8f17-c10e1c087886",
   "metadata": {},
   "source": [
    "## Download reads"
   ]
  },
  {
   "cell_type": "markdown",
   "id": "127fc015-4a71-48c4-b7d8-25ffa3a8ff95",
   "metadata": {},
   "source": [
    "### Install IGS-portal-client"
   ]
  },
  {
   "cell_type": "code",
   "execution_count": 2,
   "id": "9177dde7-58e0-44d1-9ff9-c3cfbcc59208",
   "metadata": {},
   "outputs": [
    {
     "name": "stdout",
     "output_type": "stream",
     "text": [
      "Cloning into 'portal_client'...\n",
      "remote: Enumerating objects: 429, done.\u001b[K\n",
      "remote: Counting objects: 100% (12/12), done.\u001b[K\n",
      "remote: Compressing objects: 100% (12/12), done.\u001b[K\n",
      "remote: Total 429 (delta 4), reused 2 (delta 0), pack-reused 417 (from 1)\u001b[K\n",
      "Receiving objects: 100% (429/429), 105.83 KiB | 394.00 KiB/s, done.\n",
      "Resolving deltas: 100% (229/229), done.\n",
      "Obtaining file:///home/fchaaban/bin/MeSS-figures/portal_client\n",
      "  Preparing metadata (setup.py) ... \u001b[?25ldone\n",
      "\u001b[?25hRequirement already satisfied: boto>=2.49.0 in /home/fchaaban/miniforge3/lib/python3.10/site-packages (from portal-client==1.4.5) (2.49.0)\n",
      "Requirement already satisfied: google-auth-oauthlib>=0.2.0 in /home/fchaaban/miniforge3/lib/python3.10/site-packages (from portal-client==1.4.5) (1.2.1)\n",
      "Requirement already satisfied: google-cloud-storage>=1.13.2 in /home/fchaaban/miniforge3/lib/python3.10/site-packages (from portal-client==1.4.5) (2.18.2)\n",
      "Requirement already satisfied: google-auth>=2.15.0 in /home/fchaaban/miniforge3/lib/python3.10/site-packages (from google-auth-oauthlib>=0.2.0->portal-client==1.4.5) (2.33.0)\n",
      "Requirement already satisfied: requests-oauthlib>=0.7.0 in /home/fchaaban/miniforge3/lib/python3.10/site-packages (from google-auth-oauthlib>=0.2.0->portal-client==1.4.5) (2.0.0)\n",
      "Requirement already satisfied: google-api-core<3.0.0dev,>=2.15.0 in /home/fchaaban/miniforge3/lib/python3.10/site-packages (from google-cloud-storage>=1.13.2->portal-client==1.4.5) (2.19.1)\n",
      "Requirement already satisfied: google-cloud-core<3.0dev,>=2.3.0 in /home/fchaaban/miniforge3/lib/python3.10/site-packages (from google-cloud-storage>=1.13.2->portal-client==1.4.5) (2.4.1)\n",
      "Requirement already satisfied: google-resumable-media>=2.7.2 in /home/fchaaban/miniforge3/lib/python3.10/site-packages (from google-cloud-storage>=1.13.2->portal-client==1.4.5) (2.7.2)\n",
      "Requirement already satisfied: requests<3.0.0dev,>=2.18.0 in /home/fchaaban/.local/lib/python3.10/site-packages (from google-cloud-storage>=1.13.2->portal-client==1.4.5) (2.31.0)\n",
      "Requirement already satisfied: google-crc32c<2.0dev,>=1.0 in /home/fchaaban/miniforge3/lib/python3.10/site-packages (from google-cloud-storage>=1.13.2->portal-client==1.4.5) (1.5.0)\n",
      "Requirement already satisfied: googleapis-common-protos<2.0.dev0,>=1.56.2 in /home/fchaaban/miniforge3/lib/python3.10/site-packages (from google-api-core<3.0.0dev,>=2.15.0->google-cloud-storage>=1.13.2->portal-client==1.4.5) (1.63.2)\n",
      "Requirement already satisfied: protobuf!=3.20.0,!=3.20.1,!=4.21.0,!=4.21.1,!=4.21.2,!=4.21.3,!=4.21.4,!=4.21.5,<6.0.0.dev0,>=3.19.5 in /home/fchaaban/miniforge3/lib/python3.10/site-packages (from google-api-core<3.0.0dev,>=2.15.0->google-cloud-storage>=1.13.2->portal-client==1.4.5) (5.27.3)\n",
      "Requirement already satisfied: proto-plus<2.0.0dev,>=1.22.3 in /home/fchaaban/miniforge3/lib/python3.10/site-packages (from google-api-core<3.0.0dev,>=2.15.0->google-cloud-storage>=1.13.2->portal-client==1.4.5) (1.24.0)\n",
      "Requirement already satisfied: cachetools<6.0,>=2.0.0 in /home/fchaaban/miniforge3/lib/python3.10/site-packages (from google-auth>=2.15.0->google-auth-oauthlib>=0.2.0->portal-client==1.4.5) (5.4.0)\n",
      "Requirement already satisfied: pyasn1-modules>=0.2.1 in /home/fchaaban/miniforge3/lib/python3.10/site-packages (from google-auth>=2.15.0->google-auth-oauthlib>=0.2.0->portal-client==1.4.5) (0.4.0)\n",
      "Requirement already satisfied: rsa<5,>=3.1.4 in /home/fchaaban/miniforge3/lib/python3.10/site-packages (from google-auth>=2.15.0->google-auth-oauthlib>=0.2.0->portal-client==1.4.5) (4.9)\n",
      "Requirement already satisfied: charset-normalizer<4,>=2 in /home/fchaaban/.local/lib/python3.10/site-packages (from requests<3.0.0dev,>=2.18.0->google-cloud-storage>=1.13.2->portal-client==1.4.5) (3.3.2)\n",
      "Requirement already satisfied: idna<4,>=2.5 in /home/fchaaban/miniforge3/lib/python3.10/site-packages (from requests<3.0.0dev,>=2.18.0->google-cloud-storage>=1.13.2->portal-client==1.4.5) (3.6)\n",
      "Requirement already satisfied: urllib3<3,>=1.21.1 in /home/fchaaban/miniforge3/lib/python3.10/site-packages (from requests<3.0.0dev,>=2.18.0->google-cloud-storage>=1.13.2->portal-client==1.4.5) (2.2.1)\n",
      "Requirement already satisfied: certifi>=2017.4.17 in /home/fchaaban/miniforge3/lib/python3.10/site-packages (from requests<3.0.0dev,>=2.18.0->google-cloud-storage>=1.13.2->portal-client==1.4.5) (2024.7.4)\n",
      "Requirement already satisfied: oauthlib>=3.0.0 in /home/fchaaban/miniforge3/lib/python3.10/site-packages (from requests-oauthlib>=0.7.0->google-auth-oauthlib>=0.2.0->portal-client==1.4.5) (3.2.2)\n",
      "Requirement already satisfied: pyasn1<0.7.0,>=0.4.6 in /home/fchaaban/miniforge3/lib/python3.10/site-packages (from pyasn1-modules>=0.2.1->google-auth>=2.15.0->google-auth-oauthlib>=0.2.0->portal-client==1.4.5) (0.6.0)\n",
      "Installing collected packages: portal-client\n",
      "  Running setup.py develop for portal-client\n",
      "Successfully installed portal-client-1.4.5\n"
     ]
    }
   ],
   "source": [
    "git clone https://github.com/IGS/portal_client\n",
    "pip install -e portal_client"
   ]
  },
  {
   "cell_type": "markdown",
   "id": "d6355d90-5a7a-4994-b045-f823fe4586e1",
   "metadata": {},
   "source": [
    "### Download from manifest\n"
   ]
  },
  {
   "cell_type": "code",
   "execution_count": 3,
   "id": "a9bc6e2d-5fca-4e52-90ea-abbaa0b0cb86",
   "metadata": {
    "vscode": {
     "languageId": "shellscript"
    }
   },
   "outputs": [
    {
     "name": "stdout",
     "output_type": "stream",
     "text": [
      "/home/fchaaban/miniforge3/bin/portal_client:4: DeprecationWarning: pkg_resources is deprecated as an API. See https://setuptools.pypa.io/en/latest/pkg_resources.html\n",
      "  __import__('pkg_resources').require('portal-client==1.4.5')\n",
      "Downloading file from AWS S3: reads/SRS014475.tar.bz2.partial | total bytes = 99527955\n",
      "99527955  [100.00\n"
     ]
    }
   ],
   "source": [
    "portal_client --manifest data/manifest.tsv --destination reads "
   ]
  },
  {
   "cell_type": "markdown",
   "id": "9c121e04-e63a-4d4e-945f-bb08f1dfe930",
   "metadata": {},
   "source": [
    "> [!WARNING]  \n",
    "> Make sure you have at least 50GB of space\n"
   ]
  },
  {
   "cell_type": "markdown",
   "id": "00fa1c25",
   "metadata": {
    "vscode": {
     "languageId": "shellscript"
    }
   },
   "source": [
    "## Classify reads\n"
   ]
  },
  {
   "cell_type": "markdown",
   "id": "e012f871",
   "metadata": {
    "vscode": {
     "languageId": "shellscript"
    }
   },
   "source": [
    "### Download kraken2 database\n",
    "\n",
    "We can get a kraken2 index from https://benlangmead.github.io/aws-indexes/k2 using the [aws-cli](https://aws.amazon.com/cli/)\n"
   ]
  },
  {
   "cell_type": "code",
   "execution_count": 6,
   "id": "b8a23bc2-1a7c-4fe9-b70e-4808e74c0f2c",
   "metadata": {
    "vscode": {
     "languageId": "shellscript"
    }
   },
   "outputs": [
    {
     "name": "stdout",
     "output_type": "stream",
     "text": [
      "download: s3://genome-idx/kraken/k2_standard_08gb_20240605.tar.gz to ./k2_standard_08gb_20240605.tar.gz\n",
      "hash.k2d\n",
      "opts.k2d\n",
      "taxo.k2d\n",
      "standard08gb.md5\n",
      "inspect.txt\n",
      "unmapped_accessions.txt\n",
      "ktaxonomy.tsv\n",
      "library_report.tsv\n",
      "database100mers.kmer_distrib\n",
      "database150mers.kmer_distrib\n",
      "database200mers.kmer_distrib\n",
      "database250mers.kmer_distrib\n",
      "database300mers.kmer_distrib\n",
      "database50mers.kmer_distrib\n",
      "database75mers.kmer_distrib\n",
      "seqid2taxid.map\n"
     ]
    }
   ],
   "source": [
    "aws s3 cp --no-sign-request s3://genome-idx/kraken/k2_standard_20240605.tar.gz .\n",
    "mkdir k2db\n",
    "tar -xzvf k2_standard_*.tar.gz -C k2db"
   ]
  },
  {
   "cell_type": "markdown",
   "id": "3de50259",
   "metadata": {
    "vscode": {
     "languageId": "shellscript"
    }
   },
   "source": [
    "> [!WARNING]  \n",
    "> You need at least 70GB of ram to use this database\n"
   ]
  },
  {
   "cell_type": "markdown",
   "id": "bb534461",
   "metadata": {
    "vscode": {
     "languageId": "shellscript"
    }
   },
   "source": [
    "### Run the classify.nf script\n",
    "\n",
    "You need to install [nextflow](https://www.nextflow.io/docs/latest/install.html) and [apptainer](https://apptainer.org/docs/admin/main/installation.html#install-ubuntu-packages) to run classify.nf\n"
   ]
  },
  {
   "cell_type": "code",
   "execution_count": 15,
   "id": "2fb11f84-2c2b-447e-a17e-30b07e15cd66",
   "metadata": {
    "vscode": {
     "languageId": "shellscript"
    }
   },
   "outputs": [
    {
     "name": "stdout",
     "output_type": "stream",
     "text": [
      "nextflow run classify.nf -c nextflow.config -params-file real_reads.yaml -resume\n",
      "\n",
      "\u001b[1m\u001b[38;5;232m\u001b[48;5;43m N E X T F L O W \u001b[0;2m  ~  \u001b[mversion 24.04.4\u001b[m\n",
      "\u001b[K\n",
      "Launching\u001b[35m `classify.nf` \u001b[0;2m[\u001b[0;1;36mmad_linnaeus\u001b[0;2m] DSL2 - \u001b[36mrevision: \u001b[0;36m458b22bf4d\u001b[m\n",
      "\u001b[K\n",
      "\u001b[2m[\u001b[0;34m-        \u001b[0;2m] \u001b[0;2m\u001b[mEXTRACT_ARCHIVE -\u001b[K\n",
      "\u001b[2m[\u001b[0;34m-        \u001b[0;2m] \u001b[0;2m\u001b[mFASTP           -\u001b[K\n",
      "\u001b[2m[\u001b[0;34m-        \u001b[0;2m] \u001b[0;2m\u001b[mKRAKEN2         -\u001b[K\n",
      "\u001b[2m[\u001b[0;34m-        \u001b[0;2m] \u001b[0;2m\u001b[mBRACKEN         -\u001b[K\n",
      "\u001b[2m[\u001b[0;34m-        \u001b[0;2m] \u001b[0;2m\u001b[mFILTER_BRACKEN  -\u001b[K\n",
      "\u001b[6A\n",
      "\u001b[2m[\u001b[0;34m62/e2ef76\u001b[0;2m] \u001b[0;2m\u001b[mEXTRACT_ARCHIVE\u001b[33;2m (\u001b[0;33mSRS014475\u001b[2m)\u001b[m\u001b[2m |\u001b[m 1 of 1\u001b[2m, cached: 1\u001b[0;32m ✔\u001b[m\u001b[K\n",
      "\u001b[2m[\u001b[0;34mc7/4743b2\u001b[0;2m] \u001b[0;2m\u001b[mFASTP\u001b[33;2m (\u001b[0;33mSRS014475\u001b[2m)\u001b[m          \u001b[2m |\u001b[m 1 of 1\u001b[2m, cached: 1\u001b[0;32m ✔\u001b[m\u001b[K\n",
      "\u001b[2m[\u001b[0;34m6d/d0abcc\u001b[0;2m] \u001b[0;2m\u001b[mKRAKEN2\u001b[33;2m (\u001b[0;33mSRS014475\u001b[2m)\u001b[m        \u001b[2m |\u001b[m 1 of 1\u001b[2m, cached: 1\u001b[0;32m ✔\u001b[m\u001b[K\n",
      "\u001b[2m[\u001b[0;34m-        \u001b[0;2m] \u001b[0;2m\u001b[mBRACKEN                     -\u001b[K\n",
      "\u001b[2m[\u001b[0;34m-        \u001b[0;2m] \u001b[0;2m\u001b[mFILTER_BRACKEN              -\u001b[K\n",
      "\u001b[6A\n",
      "\u001b[2m[\u001b[0;34m62/e2ef76\u001b[0;2m] \u001b[0;2m\u001b[mEXTRACT_ARCHIVE\u001b[33;2m (\u001b[0;33mSRS014475\u001b[2m)\u001b[m\u001b[2m |\u001b[m 1 of 1\u001b[2m, cached: 1\u001b[0;32m ✔\u001b[m\u001b[K\n",
      "\u001b[2m[\u001b[0;34mc7/4743b2\u001b[0;2m] \u001b[0;2m\u001b[mFASTP\u001b[33;2m (\u001b[0;33mSRS014475\u001b[2m)\u001b[m          \u001b[2m |\u001b[m 1 of 1\u001b[2m, cached: 1\u001b[0;32m ✔\u001b[m\u001b[K\n",
      "\u001b[2m[\u001b[0;34m6d/d0abcc\u001b[0;2m] \u001b[0;2m\u001b[mKRAKEN2\u001b[33;2m (\u001b[0;33mSRS014475\u001b[2m)\u001b[m        \u001b[2m |\u001b[m 1 of 1\u001b[2m, cached: 1\u001b[0;32m ✔\u001b[m\u001b[K\n",
      "\u001b[2m[\u001b[0;34mca/f88486\u001b[0;2m] \u001b[0;2m\u001b[mBRACKEN\u001b[33;2m (\u001b[0;33mSRS014475\u001b[2m)\u001b[m        \u001b[2m |\u001b[m 1 of 1\u001b[2m, cached: 1\u001b[0;32m ✔\u001b[m\u001b[K\n",
      "\u001b[2m[\u001b[0;34m00/44c338\u001b[0;2m] \u001b[0;2m\u001b[mFILTER_BRACKEN\u001b[33;2m (\u001b[0;33mSRS014475\u001b[2m)\u001b[m \u001b[2m |\u001b[m 1 of 1\u001b[2m, cached: 1\u001b[0;32m ✔\u001b[m\u001b[K\n",
      "\n"
     ]
    },
    {
     "ename": "",
     "evalue": "1",
     "output_type": "error",
     "traceback": []
    }
   ],
   "source": [
    "nextflow run classify.nf -c nextflow.config -params-file real_reads.yaml -resume"
   ]
  },
  {
   "cell_type": "markdown",
   "id": "433c79e4",
   "metadata": {
    "vscode": {
     "languageId": "shellscript"
    }
   },
   "source": [
    "> [!IMPORTANT]  \n",
    "> The taxonomic profiles are under results/abundances\n"
   ]
  }
 ],
 "metadata": {
  "kernelspec": {
   "display_name": "Bash",
   "language": "bash",
   "name": "bash"
  },
  "language_info": {
   "codemirror_mode": "shell",
   "file_extension": ".sh",
   "mimetype": "text/x-sh",
   "name": "bash"
  }
 },
 "nbformat": 4,
 "nbformat_minor": 5
}
