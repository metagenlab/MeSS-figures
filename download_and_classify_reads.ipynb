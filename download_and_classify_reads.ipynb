{
 "cells": [
  {
   "cell_type": "markdown",
   "id": "362362ca-1dda-475d-8282-8d1f32793de7",
   "metadata": {},
   "source": [
    "# Get HMP taxonomic profile (Kraken2 + Bracken)\n"
   ]
  },
  {
   "cell_type": "markdown",
   "id": "f4bf906a",
   "metadata": {},
   "source": [
    "## Download reads\n"
   ]
  },
  {
   "cell_type": "markdown",
   "id": "f6cb0055-0189-4334-9e00-991ca6978036",
   "metadata": {},
   "source": [
    "### Install IGS-portal-client\n"
   ]
  },
  {
   "cell_type": "code",
   "execution_count": null,
   "id": "d6dea272-cae1-4755-b18b-988e6a00cd3b",
   "metadata": {
    "scrolled": true,
    "vscode": {
     "languageId": "shellscript"
    }
   },
   "outputs": [],
   "source": [
    "git clone https://github.com/IGS/portal_client\n",
    "pip install -e portal_client"
   ]
  },
  {
   "cell_type": "markdown",
   "id": "d6355d90-5a7a-4994-b045-f823fe4586e1",
   "metadata": {},
   "source": [
    "### Download from manifest\n"
   ]
  },
  {
   "cell_type": "code",
   "execution_count": null,
   "id": "a9bc6e2d-5fca-4e52-90ea-abbaa0b0cb86",
   "metadata": {
    "vscode": {
     "languageId": "shellscript"
    }
   },
   "outputs": [],
   "source": [
    "portal_client --manifest data/manifest.tsv --destination reads "
   ]
  },
  {
   "cell_type": "markdown",
   "id": "9c121e04-e63a-4d4e-945f-bb08f1dfe930",
   "metadata": {},
   "source": [
    "> [!WARNING]  \n",
    "> Make sure you have at least 50GB of space\n"
   ]
  },
  {
   "cell_type": "markdown",
   "id": "00fa1c25",
   "metadata": {
    "vscode": {
     "languageId": "shellscript"
    }
   },
   "source": [
    "## Classify reads\n"
   ]
  },
  {
   "cell_type": "markdown",
   "id": "e012f871",
   "metadata": {
    "vscode": {
     "languageId": "shellscript"
    }
   },
   "source": [
    "### Download kraken2 index\n",
    "\n",
    "We can get a kraken2 index from https://benlangmead.github.io/aws-indexes/k2 using the [aws-cli](https://aws.amazon.com/cli/)\n"
   ]
  },
  {
   "cell_type": "markdown",
   "id": "d9f89fe0",
   "metadata": {
    "vscode": {
     "languageId": "shellscript"
    }
   },
   "source": [
    "> [!NOTE]  \n",
    "> Follow aws-cli install instructions [here](https://docs.aws.amazon.com/cli/latest/userguide/getting-started-install.html)\n"
   ]
  },
  {
   "cell_type": "code",
   "execution_count": null,
   "id": "b8a23bc2-1a7c-4fe9-b70e-4808e74c0f2c",
   "metadata": {
    "vscode": {
     "languageId": "shellscript"
    }
   },
   "outputs": [],
   "source": [
    "aws s3 cp --no-sign-request s3://genome-idx/kraken/k2_standard_20240605.tar.gz .\n",
    "mkdir k2db\n",
    "tar -xzvf k2_standard_20240605.tar.gz -C k2db"
   ]
  },
  {
   "cell_type": "markdown",
   "id": "3de50259",
   "metadata": {
    "vscode": {
     "languageId": "shellscript"
    }
   },
   "source": [
    "> [!WARNING]  \n",
    "> You need at least 70GB of ram to use this database\n"
   ]
  },
  {
   "cell_type": "markdown",
   "id": "bb534461",
   "metadata": {
    "vscode": {
     "languageId": "shellscript"
    }
   },
   "source": [
    "### Run the classify.nf script\n",
    "\n",
    "You need to install [nextflow](https://www.nextflow.io/docs/latest/install.html) and [apptainer](https://apptainer.org/docs/admin/main/installation.html#install-ubuntu-packages) to run classify.nf\n"
   ]
  },
  {
   "cell_type": "code",
   "execution_count": null,
   "id": "2fb11f84-2c2b-447e-a17e-30b07e15cd66",
   "metadata": {
    "vscode": {
     "languageId": "shellscript"
    }
   },
   "outputs": [],
   "source": [
    "nextflow run classify.nf -c nextflow.config -params-file params.yaml"
   ]
  },
  {
   "cell_type": "markdown",
   "id": "433c79e4",
   "metadata": {
    "vscode": {
     "languageId": "shellscript"
    }
   },
   "source": [
    "> [!IMPORTANT]  \n",
    "> The taxonomic profiles are under results/abundances\n"
   ]
  }
 ],
 "metadata": {
  "kernelspec": {
   "display_name": "Bash",
   "language": "bash",
   "name": "bash"
  },
  "language_info": {
   "codemirror_mode": "shell",
   "file_extension": ".sh",
   "mimetype": "text/x-sh",
   "name": "bash"
  }
 },
 "nbformat": 4,
 "nbformat_minor": 5
}
